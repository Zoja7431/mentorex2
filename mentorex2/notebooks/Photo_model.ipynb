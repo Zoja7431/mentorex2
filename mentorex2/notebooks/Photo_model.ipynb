{
 "cells": [
  {
   "cell_type": "markdown",
   "id": "d51d43ed-4fac-440c-8d2b-daff058b2f5c",
   "metadata": {},
   "source": [
    "# Классификатор изображений"
   ]
  },
  {
   "cell_type": "markdown",
   "id": "57beb740-e753-4e5e-8956-fdff0f7fb419",
   "metadata": {},
   "source": [
    "Импорт библиотек"
   ]
  },
  {
   "cell_type": "code",
   "execution_count": 1,
   "id": "0ac4341e-9d17-4ff6-b8c6-90a7208a5fea",
   "metadata": {},
   "outputs": [],
   "source": [
    "import numpy as np\n",
    "import pandas as pd\n",
    "import tensorflow as tf\n",
    "from tensorflow.keras.preprocessing.image import ImageDataGenerator\n",
    "import matplotlib.pyplot as plt\n",
    "import os\n",
    "import torch\n",
    "from PIL import Image\n",
    "import torch.nn as nn\n",
    "import torch.optim as optim\n",
    "from torch.utils.data import DataLoader\n",
    "from torchvision import datasets, transforms\n",
    "from transformers import ViTForImageClassification, ViTConfig"
   ]
  },
  {
   "cell_type": "markdown",
   "id": "fbf2ad0d-2f5f-4c09-88e5-be816c85d425",
   "metadata": {},
   "source": [
    "Импорт датасета"
   ]
  },
  {
   "cell_type": "code",
   "execution_count": 36,
   "id": "3f3b2f6a-08f9-48ff-a2a0-ed8b7d674ded",
   "metadata": {},
   "outputs": [],
   "source": [
    "direction = 'C:/Users/Delta-Game/Desktop/Jupyter_projects/MentorEx/cifar10' # путь к папке данных"
   ]
  },
  {
   "cell_type": "markdown",
   "id": "bdff7c96-a1a3-46d8-b6fa-dfed638d012b",
   "metadata": {},
   "source": [
    "The CIFAR-10 dataset consists of 60000 32x32 colour images in 10 classes, with 6000 images per class. There are 50000 training images and 10000 test images.\n",
    "The dataset is divided into five training batches and one test batch, each with 10000 images. The test batch contains exactly 1000 randomly-selected images from each class. The training batches contain the remaining images in random order, but some training batches may contain more images from one class than another. Between them, the training batches contain exactly 5000 images from each class."
   ]
  },
  {
   "cell_type": "markdown",
   "id": "1ee81bae-6844-42f2-86be-41aa784aa32c",
   "metadata": {},
   "source": [
    "## Трансформеры"
   ]
  },
  {
   "cell_type": "markdown",
   "id": "c0475afd-1cce-41bf-b3f9-5d4b65e994d4",
   "metadata": {},
   "source": [
    "## Vanilla Vision Transformer (ViT)\n",
    "предобученная"
   ]
  },
  {
   "cell_type": "code",
   "execution_count": 41,
   "id": "479821b3-80c6-43ad-a8d1-68f096c808a7",
   "metadata": {},
   "outputs": [
    {
     "name": "stdout",
     "output_type": "stream",
     "text": [
      "CUDA available: True\n",
      "GPU: NVIDIA GeForce RTX 2080 SUPER, CUDA version: 11.8\n",
      "Train classes: ['airplane', 'automobile', 'bird', 'cat', 'deer', 'dog', 'frog', 'horse', 'ship', 'truck']\n",
      "Number of train images: 50000\n",
      "Number of test images: 10000\n"
     ]
    }
   ],
   "source": [
    "# Параметры\n",
    "num_classes = 10\n",
    "batch_size = 64 # 8x8 батч\n",
    "epochs = 5\n",
    "learning_rate = 1e-4\n",
    "\n",
    "# Проверка CUDA\n",
    "print(f\"CUDA available: {torch.cuda.is_available()}\")\n",
    "if torch.cuda.is_available():\n",
    "    print(f\"GPU: {torch.cuda.get_device_name(0)}, CUDA version: {torch.version.cuda}\")\n",
    "else:\n",
    "    print(\"GPU not available, using CPU\")\n",
    "    \n",
    "# Transforms: Resize to 224x224 (ViT ожидает это), нормализация ImageNet\n",
    "transform = transforms.Compose([\n",
    "    transforms.Resize(224, interpolation=transforms.InterpolationMode.BICUBIC),\n",
    "    transforms.RandomCrop(224, padding=4),\n",
    "    transforms.RandomHorizontalFlip(),\n",
    "    transforms.ToTensor(),\n",
    "    transforms.Normalize(mean=[0.491, 0.482, 0.446], std=[0.247, 0.243, 0.261])  # CIFAR-10 stats\n",
    "])\n",
    "\n",
    "\n",
    "# Загрузка датасета из локальной папки\n",
    "train_dataset = datasets.ImageFolder(\n",
    "    root=direction+'/train',\n",
    "    transform=transform\n",
    ")\n",
    "test_dataset = datasets.ImageFolder(\n",
    "    root=direction+'/test',\n",
    "    transform=transform\n",
    ")\n",
    "# DataLoader для батчей\n",
    "train_loader = DataLoader(train_dataset, batch_size=batch_size, shuffle=True)\n",
    "test_loader = DataLoader(test_dataset, batch_size=batch_size, shuffle=False)\n",
    "\n",
    "# Проверка\n",
    "print(\"Train classes:\", train_dataset.classes)\n",
    "print(\"Number of train images:\", len(train_dataset))\n",
    "print(\"Number of test images:\", len(test_dataset))"
   ]
  },
  {
   "cell_type": "code",
   "execution_count": 38,
   "id": "9648d6d1-027a-4471-b9c8-d79f9d698f8e",
   "metadata": {},
   "outputs": [
    {
     "name": "stderr",
     "output_type": "stream",
     "text": [
      "Some weights of ViTForImageClassification were not initialized from the model checkpoint at google/vit-base-patch16-224 and are newly initialized because the shapes did not match:\n",
      "- classifier.bias: found shape torch.Size([1000]) in the checkpoint and torch.Size([10]) in the model instantiated\n",
      "- classifier.weight: found shape torch.Size([1000, 768]) in the checkpoint and torch.Size([10, 768]) in the model instantiated\n",
      "You should probably TRAIN this model on a down-stream task to be able to use it for predictions and inference.\n"
     ]
    },
    {
     "name": "stdout",
     "output_type": "stream",
     "text": [
      "Model device: cuda:0\n"
     ]
    }
   ],
   "source": [
    "try:\n",
    "    model = ViTForImageClassification.from_pretrained(\n",
    "        'google/vit-base-patch16-224',\n",
    "        num_labels=num_classes,\n",
    "        ignore_mismatched_sizes=True,\n",
    "        cache_dir='C:/Users/Delta-Game/Desktop/Jupyter_projects/MentorEx/cache',\n",
    "        local_files_only=False\n",
    "    )\n",
    "except Exception as e:\n",
    "    print(f\"Ошибка загрузки модели: {e}\")\n",
    "    print(\"Проверь интернет, установи 'hf_xet' или проверь кэш.\")\n",
    "    exit()\n",
    "\n",
    "model.to(device)\n",
    "print(f\"Model device: {next(model.parameters()).device}\")\n",
    "\n",
    "# Loss и optimizer\n",
    "criterion = nn.CrossEntropyLoss(label_smoothing=0.1)  # Добавлено сглаживание\n",
    "optimizer = optim.AdamW(model.parameters(), lr=learning_rate, weight_decay=0.05)\n",
    "scheduler = optim.lr_scheduler.StepLR(optimizer, step_size=2, gamma=0.1)\n",
    "\n",
    "# Списки для метрик\n",
    "train_losses = []\n",
    "test_accuracies = []"
   ]
  },
  {
   "cell_type": "code",
   "execution_count": 40,
   "id": "b5e28d98-0afa-466e-b7cc-30a582053ebb",
   "metadata": {},
   "outputs": [
    {
     "name": "stdout",
     "output_type": "stream",
     "text": [
      "Epoch 1, Images device: cuda:0, Labels device: cuda:0\n",
      "Epoch 1/10, Loss: 0.5695, LR: 0.000100\n",
      "Test Accuracy: 96.96%\n",
      "Epoch 2, Images device: cuda:0, Labels device: cuda:0\n",
      "Epoch 2/10, Loss: 0.5340, LR: 0.000010\n",
      "Test Accuracy: 98.02%\n",
      "Epoch 3, Images device: cuda:0, Labels device: cuda:0\n"
     ]
    },
    {
     "ename": "KeyboardInterrupt",
     "evalue": "",
     "output_type": "error",
     "traceback": [
      "\u001b[31m---------------------------------------------------------------------------\u001b[39m",
      "\u001b[31mKeyboardInterrupt\u001b[39m                         Traceback (most recent call last)",
      "\u001b[36mCell\u001b[39m\u001b[36m \u001b[39m\u001b[32mIn[40]\u001b[39m\u001b[32m, line 14\u001b[39m\n\u001b[32m     12\u001b[39m     loss.backward()\n\u001b[32m     13\u001b[39m     optimizer.step()\n\u001b[32m---> \u001b[39m\u001b[32m14\u001b[39m     running_loss += \u001b[43mloss\u001b[49m\u001b[43m.\u001b[49m\u001b[43mitem\u001b[49m\u001b[43m(\u001b[49m\u001b[43m)\u001b[49m\n\u001b[32m     15\u001b[39m scheduler.step()\n\u001b[32m     16\u001b[39m avg_loss = running_loss / \u001b[38;5;28mlen\u001b[39m(train_loader)\n",
      "\u001b[31mKeyboardInterrupt\u001b[39m: "
     ]
    }
   ],
   "source": [
    "# Обучение\n",
    "for epoch in range(epochs):\n",
    "    model.train()\n",
    "    running_loss = 0.0\n",
    "    for i, (images, labels) in enumerate(train_loader):\n",
    "        images, labels = images.to(device), labels.to(device)\n",
    "        if i == 0:  # Проверка устройства для первого батча\n",
    "            print(f\"Epoch {epoch+1}, Images device: {images.device}, Labels device: {labels.device}\")\n",
    "        optimizer.zero_grad()\n",
    "        outputs = model(images).logits\n",
    "        loss = criterion(outputs, labels)\n",
    "        loss.backward()\n",
    "        optimizer.step()\n",
    "        running_loss += loss.item()\n",
    "    scheduler.step()\n",
    "    avg_loss = running_loss / len(train_loader)\n",
    "    train_losses.append(avg_loss)\n",
    "    print(f\"Epoch {epoch+1}/{epochs}, Loss: {avg_loss:.4f}, LR: {scheduler.get_last_lr()[0]:.6f}\")\n",
    "    \n",
    "    # Тестирование\n",
    "    model.eval()\n",
    "    correct = 0\n",
    "    total = 0\n",
    "    with torch.no_grad():\n",
    "        for images, labels in test_loader:\n",
    "            images, labels = images.to(device), labels.to(device)\n",
    "            outputs = model(images).logits\n",
    "            _, predicted = torch.max(outputs, 1)\n",
    "            total += labels.size(0)\n",
    "            correct += (predicted == labels).sum().item()\n",
    "    accuracy = 100 * correct / total\n",
    "    test_accuracies.append(accuracy)\n",
    "    print(f\"Test Accuracy: {accuracy:.2f}%\")\n",
    "\n"
   ]
  },
  {
   "cell_type": "code",
   "execution_count": null,
   "id": "626c2c1d-43f6-4cc6-ad3e-5d54f833607f",
   "metadata": {},
   "outputs": [],
   "source": [
    "# Финальный результат\n",
    "print(f\"Final Test Accuracy: {test_accuracies[-1]:.2f}%\")\n",
    "\n",
    "# Визуализация\n",
    "plt.figure(figsize=(12, 4))\n",
    "plt.subplot(1, 2, 1)\n",
    "plt.plot(train_losses, label='Train Loss')\n",
    "plt.xlabel('Epoch')\n",
    "plt.ylabel('Loss')\n",
    "plt.title('Training Loss')\n",
    "plt.legend()\n",
    "plt.subplot(1, 2, 2)\n",
    "plt.plot(test_accuracies, label='Test Accuracy')\n",
    "plt.xlabel('Epoch')\n",
    "plt.ylabel('Accuracy (%)')\n",
    "plt.title('Test Accuracy')\n",
    "plt.legend()\n",
    "plt.tight_layout()\n",
    "plt.show()"
   ]
  },
  {
   "cell_type": "markdown",
   "id": "60802eb6-364c-4077-88cb-76d5464e5448",
   "metadata": {},
   "source": [
    "# CNN"
   ]
  },
  {
   "cell_type": "code",
   "execution_count": 26,
   "id": "26a52651-f3b8-469e-bae9-47a1a345a52f",
   "metadata": {},
   "outputs": [],
   "source": [
    "num_classes = 10\n",
    "batch_size = 64\n",
    "epochs = 50\n",
    "learning_rate = 1e-3\n",
    "device = torch.device(\"cuda\" if torch.cuda.is_available() else \"cpu\")\n",
    "\n",
    "train_dir = 'C:/Users/Delta-Game/Desktop/Jupyter_projects/MentorEx/cifar10/train'\n",
    "test_dir = 'C:/Users/Delta-Game/Desktop/Jupyter_projects/MentorEx/cifar10/test'"
   ]
  },
  {
   "cell_type": "code",
   "execution_count": 27,
   "id": "c514d35b-c173-4149-a0dd-9856b53057ac",
   "metadata": {},
   "outputs": [],
   "source": [
    "# Transforms\n",
    "transform = transforms.Compose([\n",
    "    transforms.Resize((32, 32)),  # Принудительно 32x32\n",
    "    transforms.RandomCrop(32, padding=4),\n",
    "    transforms.RandomHorizontalFlip(),\n",
    "    transforms.ToTensor(),\n",
    "    transforms.Normalize(mean=[0.491, 0.482, 0.446], std=[0.247, 0.243, 0.261])\n",
    "])"
   ]
  },
  {
   "cell_type": "code",
   "execution_count": 28,
   "id": "33a5fd52-d879-4b08-a955-1eeab5a44862",
   "metadata": {},
   "outputs": [
    {
     "name": "stdout",
     "output_type": "stream",
     "text": [
      "Sample image size: (32, 32)\n"
     ]
    }
   ],
   "source": [
    "# Проверка размера изображения\n",
    "sample_img_path = os.path.join(train_dir, os.listdir(train_dir)[0], os.listdir(os.path.join(train_dir, os.listdir(train_dir)[0]))[0])\n",
    "sample_img = Image.open(sample_img_path)\n",
    "print(f\"Sample image size: {sample_img.size}\")  # Должно быть (32, 32)"
   ]
  },
  {
   "cell_type": "code",
   "execution_count": 29,
   "id": "3874ca62-e396-4bbb-911d-a56d6b743b1a",
   "metadata": {},
   "outputs": [
    {
     "name": "stdout",
     "output_type": "stream",
     "text": [
      "Train classes: ['airplane', 'automobile', 'bird', 'cat', 'deer', 'dog', 'frog', 'horse', 'ship', 'truck']\n",
      "Number of train images: 50000\n",
      "Number of test images: 10000\n",
      "Sample tensor shape: torch.Size([3, 32, 32])\n"
     ]
    }
   ],
   "source": [
    "# Загрузка датасета\n",
    "try:\n",
    "    train_dataset = datasets.ImageFolder(root=train_dir, transform=transform)\n",
    "    test_dataset = datasets.ImageFolder(root=test_dir, transform=transform)\n",
    "except Exception as e:\n",
    "    raise RuntimeError(f\"Failed to load dataset: {e}\")\n",
    "\n",
    "train_loader = DataLoader(train_dataset, batch_size=batch_size, shuffle=True, num_workers=2)\n",
    "test_loader = DataLoader(test_dataset, batch_size=batch_size, shuffle=False, num_workers=2)\n",
    "\n",
    "# Проверка данных\n",
    "print(\"Train classes:\", train_dataset.classes)\n",
    "print(\"Number of train images:\", len(train_dataset))\n",
    "print(\"Number of test images:\", len(test_dataset))\n",
    "if len(train_dataset.classes) != 10:\n",
    "    raise ValueError(f\"Expected 10 classes, got {len(train_dataset.classes)}\")\n",
    "\n",
    "# Проверка размера первого тензора\n",
    "sample_image, _ = train_dataset[0]\n",
    "print(f\"Sample tensor shape: {sample_image.shape}\")  # Должно быть [3, 32, 32]\n"
   ]
  },
  {
   "cell_type": "code",
   "execution_count": 32,
   "id": "c5113d09-0e9d-40ac-80d9-1a5b9ba5365f",
   "metadata": {},
   "outputs": [],
   "source": [
    "# Определение CNN\n",
    "class SimpleCNN(nn.Module):\n",
    "    def __init__(self, num_classes):\n",
    "        super(SimpleCNN, self).__init__()\n",
    "        self.conv1 = nn.Conv2d(3, 64, kernel_size=3, padding=1)\n",
    "        self.bn1 = nn.BatchNorm2d(64)\n",
    "        self.relu = nn.ReLU(inplace=True)\n",
    "        self.pool = nn.MaxPool2d(kernel_size=2, stride=2)\n",
    "        self.conv2 = nn.Conv2d(64, 128, kernel_size=3, padding=1)\n",
    "        self.bn2 = nn.BatchNorm2d(128)\n",
    "        self.conv3 = nn.Conv2d(128, 256, kernel_size=3, padding=1)\n",
    "        self.bn3 = nn.BatchNorm2d(256)\n",
    "        self.fc = nn.Linear(256 * 8 * 8, num_classes)  # 256 * 8 * 8 = 16384\n",
    "        self.dropout = nn.Dropout(0.5)\n",
    "        \n",
    "    def forward(self, x):\n",
    "        x = self.conv1(x)\n",
    "        x = self.bn1(x)\n",
    "        x = self.relu(x)\n",
    "        x = self.pool(x)\n",
    "        x = self.conv2(x)\n",
    "        x = self.bn2(x)\n",
    "        x = self.relu(x)\n",
    "        x = self.pool(x)\n",
    "        x = self.conv3(x)\n",
    "        x = self.bn3(x)\n",
    "        x = self.relu(x)\n",
    "        x = x.view(x.size(0), -1)\n",
    "        x = self.dropout(x)\n",
    "        x = self.fc(x)\n",
    "        return x"
   ]
  },
  {
   "cell_type": "markdown",
   "id": "711fc407-9c55-483a-8447-e69bc4b33127",
   "metadata": {},
   "source": [
    "Архитектура: 3 блока (Conv2D → BatchNorm → ReLU → MaxPool), затем Flatten → Dropout → FC.  \n",
    "Размеры: 32x32 → 16x16 → 8x8 → 25688=16384 → 10.  \n",
    "Dropout(0.5): Регуляризация для малого датасета.  "
   ]
  },
  {
   "cell_type": "code",
   "execution_count": 33,
   "id": "051e4bfe-16a9-4057-a34f-cb965e583693",
   "metadata": {},
   "outputs": [
    {
     "name": "stdout",
     "output_type": "stream",
     "text": [
      "Model device: cuda:0\n",
      "Conv1 filters shape: torch.Size([64, 3, 3, 3])\n",
      "Epoch 1, Images device: cuda:0, Labels device: cuda:0\n",
      "Epoch 1/50, Loss: 1.8083, LR: 0.001000\n",
      "Test Accuracy: 54.74%\n",
      "Epoch 2, Images device: cuda:0, Labels device: cuda:0\n",
      "Epoch 2/50, Loss: 1.4145, LR: 0.001000\n",
      "Test Accuracy: 61.97%\n",
      "Epoch 3, Images device: cuda:0, Labels device: cuda:0\n",
      "Epoch 3/50, Loss: 1.3123, LR: 0.001000\n",
      "Test Accuracy: 66.09%\n",
      "Epoch 4, Images device: cuda:0, Labels device: cuda:0\n",
      "Epoch 4/50, Loss: 1.2476, LR: 0.001000\n",
      "Test Accuracy: 68.86%\n",
      "Epoch 5, Images device: cuda:0, Labels device: cuda:0\n",
      "Epoch 5/50, Loss: 1.1975, LR: 0.001000\n",
      "Test Accuracy: 72.46%\n",
      "Epoch 6, Images device: cuda:0, Labels device: cuda:0\n",
      "Epoch 6/50, Loss: 1.1595, LR: 0.001000\n",
      "Test Accuracy: 73.79%\n",
      "Epoch 7, Images device: cuda:0, Labels device: cuda:0\n",
      "Epoch 7/50, Loss: 1.1270, LR: 0.001000\n",
      "Test Accuracy: 75.10%\n",
      "Epoch 8, Images device: cuda:0, Labels device: cuda:0\n",
      "Epoch 8/50, Loss: 1.0981, LR: 0.001000\n",
      "Test Accuracy: 74.86%\n",
      "Epoch 9, Images device: cuda:0, Labels device: cuda:0\n",
      "Epoch 9/50, Loss: 1.0818, LR: 0.001000\n",
      "Test Accuracy: 77.12%\n",
      "Epoch 10, Images device: cuda:0, Labels device: cuda:0\n",
      "Epoch 10/50, Loss: 1.0593, LR: 0.001000\n",
      "Test Accuracy: 78.95%\n",
      "Epoch 11, Images device: cuda:0, Labels device: cuda:0\n",
      "Epoch 11/50, Loss: 1.0423, LR: 0.001000\n",
      "Test Accuracy: 76.18%\n",
      "Epoch 12, Images device: cuda:0, Labels device: cuda:0\n",
      "Epoch 12/50, Loss: 1.0299, LR: 0.001000\n",
      "Test Accuracy: 78.85%\n",
      "Epoch 13, Images device: cuda:0, Labels device: cuda:0\n",
      "Epoch 13/50, Loss: 1.0176, LR: 0.001000\n",
      "Test Accuracy: 78.57%\n",
      "Epoch 14, Images device: cuda:0, Labels device: cuda:0\n",
      "Epoch 14/50, Loss: 1.0043, LR: 0.001000\n",
      "Test Accuracy: 80.47%\n",
      "Epoch 15, Images device: cuda:0, Labels device: cuda:0\n",
      "Epoch 15/50, Loss: 0.9947, LR: 0.001000\n",
      "Test Accuracy: 81.23%\n",
      "Epoch 16, Images device: cuda:0, Labels device: cuda:0\n",
      "Epoch 16/50, Loss: 0.9831, LR: 0.001000\n",
      "Test Accuracy: 81.12%\n",
      "Epoch 17, Images device: cuda:0, Labels device: cuda:0\n",
      "Epoch 17/50, Loss: 0.9760, LR: 0.001000\n",
      "Test Accuracy: 81.62%\n",
      "Epoch 18, Images device: cuda:0, Labels device: cuda:0\n",
      "Epoch 18/50, Loss: 0.9658, LR: 0.001000\n",
      "Test Accuracy: 82.40%\n",
      "Epoch 19, Images device: cuda:0, Labels device: cuda:0\n",
      "Epoch 19/50, Loss: 0.9589, LR: 0.001000\n",
      "Test Accuracy: 82.23%\n",
      "Epoch 20, Images device: cuda:0, Labels device: cuda:0\n",
      "Epoch 20/50, Loss: 0.9504, LR: 0.000100\n",
      "Test Accuracy: 81.98%\n",
      "Epoch 21, Images device: cuda:0, Labels device: cuda:0\n",
      "Epoch 21/50, Loss: 0.8981, LR: 0.000100\n",
      "Test Accuracy: 84.48%\n",
      "Epoch 22, Images device: cuda:0, Labels device: cuda:0\n",
      "Epoch 22/50, Loss: 0.8872, LR: 0.000100\n",
      "Test Accuracy: 85.29%\n",
      "Epoch 23, Images device: cuda:0, Labels device: cuda:0\n",
      "Epoch 23/50, Loss: 0.8763, LR: 0.000100\n",
      "Test Accuracy: 85.75%\n",
      "Epoch 24, Images device: cuda:0, Labels device: cuda:0\n",
      "Epoch 24/50, Loss: 0.8738, LR: 0.000100\n",
      "Test Accuracy: 85.25%\n",
      "Epoch 25, Images device: cuda:0, Labels device: cuda:0\n",
      "Epoch 25/50, Loss: 0.8700, LR: 0.000100\n",
      "Test Accuracy: 85.55%\n",
      "Epoch 26, Images device: cuda:0, Labels device: cuda:0\n",
      "Epoch 26/50, Loss: 0.8645, LR: 0.000100\n",
      "Test Accuracy: 85.91%\n",
      "Epoch 27, Images device: cuda:0, Labels device: cuda:0\n",
      "Epoch 27/50, Loss: 0.8642, LR: 0.000100\n",
      "Test Accuracy: 85.78%\n",
      "Epoch 28, Images device: cuda:0, Labels device: cuda:0\n",
      "Epoch 28/50, Loss: 0.8591, LR: 0.000100\n",
      "Test Accuracy: 86.45%\n",
      "Epoch 29, Images device: cuda:0, Labels device: cuda:0\n",
      "Epoch 29/50, Loss: 0.8546, LR: 0.000100\n",
      "Test Accuracy: 85.95%\n",
      "Epoch 30, Images device: cuda:0, Labels device: cuda:0\n",
      "Epoch 30/50, Loss: 0.8527, LR: 0.000100\n",
      "Test Accuracy: 85.94%\n",
      "Epoch 31, Images device: cuda:0, Labels device: cuda:0\n",
      "Epoch 31/50, Loss: 0.8532, LR: 0.000100\n",
      "Test Accuracy: 86.06%\n",
      "Epoch 32, Images device: cuda:0, Labels device: cuda:0\n",
      "Epoch 32/50, Loss: 0.8510, LR: 0.000100\n",
      "Test Accuracy: 86.08%\n",
      "Epoch 33, Images device: cuda:0, Labels device: cuda:0\n",
      "Epoch 33/50, Loss: 0.8474, LR: 0.000100\n",
      "Test Accuracy: 86.43%\n",
      "Epoch 34, Images device: cuda:0, Labels device: cuda:0\n",
      "Epoch 34/50, Loss: 0.8449, LR: 0.000100\n",
      "Test Accuracy: 86.37%\n",
      "Epoch 35, Images device: cuda:0, Labels device: cuda:0\n",
      "Epoch 35/50, Loss: 0.8435, LR: 0.000100\n",
      "Test Accuracy: 86.29%\n",
      "Epoch 36, Images device: cuda:0, Labels device: cuda:0\n",
      "Epoch 36/50, Loss: 0.8405, LR: 0.000100\n",
      "Test Accuracy: 86.62%\n",
      "Epoch 37, Images device: cuda:0, Labels device: cuda:0\n",
      "Epoch 37/50, Loss: 0.8402, LR: 0.000100\n",
      "Test Accuracy: 86.46%\n",
      "Epoch 38, Images device: cuda:0, Labels device: cuda:0\n",
      "Epoch 38/50, Loss: 0.8362, LR: 0.000100\n",
      "Test Accuracy: 86.63%\n",
      "Epoch 39, Images device: cuda:0, Labels device: cuda:0\n",
      "Epoch 39/50, Loss: 0.8337, LR: 0.000100\n",
      "Test Accuracy: 86.71%\n",
      "Epoch 40, Images device: cuda:0, Labels device: cuda:0\n",
      "Epoch 40/50, Loss: 0.8362, LR: 0.000010\n",
      "Test Accuracy: 86.79%\n",
      "Epoch 41, Images device: cuda:0, Labels device: cuda:0\n",
      "Epoch 41/50, Loss: 0.8296, LR: 0.000010\n",
      "Test Accuracy: 86.83%\n",
      "Epoch 42, Images device: cuda:0, Labels device: cuda:0\n",
      "Epoch 42/50, Loss: 0.8269, LR: 0.000010\n",
      "Test Accuracy: 86.92%\n",
      "Epoch 43, Images device: cuda:0, Labels device: cuda:0\n",
      "Epoch 43/50, Loss: 0.8270, LR: 0.000010\n",
      "Test Accuracy: 86.49%\n",
      "Epoch 44, Images device: cuda:0, Labels device: cuda:0\n",
      "Epoch 44/50, Loss: 0.8252, LR: 0.000010\n",
      "Test Accuracy: 87.06%\n",
      "Epoch 45, Images device: cuda:0, Labels device: cuda:0\n",
      "Epoch 45/50, Loss: 0.8238, LR: 0.000010\n",
      "Test Accuracy: 86.87%\n",
      "Epoch 46, Images device: cuda:0, Labels device: cuda:0\n",
      "Epoch 46/50, Loss: 0.8229, LR: 0.000010\n",
      "Test Accuracy: 86.73%\n",
      "Epoch 47, Images device: cuda:0, Labels device: cuda:0\n",
      "Epoch 47/50, Loss: 0.8228, LR: 0.000010\n",
      "Test Accuracy: 87.08%\n",
      "Epoch 48, Images device: cuda:0, Labels device: cuda:0\n",
      "Epoch 48/50, Loss: 0.8258, LR: 0.000010\n",
      "Test Accuracy: 86.55%\n",
      "Epoch 49, Images device: cuda:0, Labels device: cuda:0\n",
      "Epoch 49/50, Loss: 0.8232, LR: 0.000010\n",
      "Test Accuracy: 87.39%\n",
      "Epoch 50, Images device: cuda:0, Labels device: cuda:0\n",
      "Epoch 50/50, Loss: 0.8249, LR: 0.000010\n",
      "Test Accuracy: 86.87%\n",
      "Final Test Accuracy: 86.87%\n"
     ]
    }
   ],
   "source": [
    "# Инициализация модели\n",
    "model = SimpleCNN(num_classes=num_classes).to(device)\n",
    "print(f\"Model device: {next(model.parameters()).device}\")\n",
    "print(f\"Conv1 filters shape: {model.conv1.weight.shape}\")\n",
    "\n",
    "# Loss, optimizer и scheduler\n",
    "criterion = nn.CrossEntropyLoss(label_smoothing=0.1)\n",
    "optimizer = optim.AdamW(model.parameters(), lr=learning_rate, weight_decay=0.05)\n",
    "scheduler = optim.lr_scheduler.StepLR(optimizer, step_size=20, gamma=0.1)\n",
    "\n",
    "# Списки для метрик\n",
    "train_losses = []\n",
    "test_accuracies = []\n",
    "\n",
    "# Обучение\n",
    "for epoch in range(epochs):\n",
    "    model.train()\n",
    "    running_loss = 0.0\n",
    "    for i, (images, labels) in enumerate(train_loader):\n",
    "        images, labels = images.to(device), labels.to(device)\n",
    "        if i == 0:\n",
    "            print(f\"Epoch {epoch+1}, Images device: {images.device}, Labels device: {labels.device}\")\n",
    "        optimizer.zero_grad()\n",
    "        outputs = model(images)\n",
    "        loss = criterion(outputs, labels)\n",
    "        loss.backward()\n",
    "        optimizer.step()\n",
    "        running_loss += loss.item()\n",
    "        if i == 0:  # Отключить print после первого батча\n",
    "            model.forward = model.__class__.forward.__get__(model, model.__class__)\n",
    "    scheduler.step()\n",
    "    avg_loss = running_loss / len(train_loader)\n",
    "    train_losses.append(avg_loss)\n",
    "    print(f\"Epoch {epoch+1}/{epochs}, Loss: {avg_loss:.4f}, LR: {scheduler.get_last_lr()[0]:.6f}\")\n",
    "    \n",
    "    # Тестирование\n",
    "    model.eval()\n",
    "    correct = 0\n",
    "    total = 0\n",
    "    with torch.no_grad():\n",
    "        for images, labels in test_loader:\n",
    "            images, labels = images.to(device), labels.to(device)\n",
    "            outputs = model(images)\n",
    "            _, predicted = torch.max(outputs, 1)\n",
    "            total += labels.size(0)\n",
    "            correct += (predicted == labels).sum().item()\n",
    "    accuracy = 100 * correct / total\n",
    "    test_accuracies.append(accuracy)\n",
    "    print(f\"Test Accuracy: {accuracy:.2f}%\")\n",
    "\n",
    "# Финальный результат\n",
    "print(f\"Final Test Accuracy: {test_accuracies[-1]:.2f}%\") # Final Test Accuracy: 86.87%"
   ]
  },
  {
   "cell_type": "code",
   "execution_count": 34,
   "id": "edf56a8a-d257-42c7-a15d-43551a74218f",
   "metadata": {},
   "outputs": [
    {
     "data": {
      "image/png": "[encoded data removed]",
      "text/plain": [
       "<Figure size 1000x1000 with 16 Axes>"
      ]
     },
     "metadata": {},
     "output_type": "display_data"
    },
    {
     "data": {
      "image/png": "[encoded data removed]",
      "text/plain": [
       "<Figure size 1000x1000 with 16 Axes>"
      ]
     },
     "metadata": {},
     "output_type": "display_data"
    },
    {
     "data": {
      "image/png": "[encoded data removed]",
      "text/plain": [
       "<Figure size 1200x400 with 2 Axes>"
      ]
     },
     "metadata": {},
     "output_type": "display_data"
    }
   ],
   "source": [
    "#  Визуализация фильтров\n",
    "filters = model.conv1.weight.detach().cpu().numpy()\n",
    "plt.figure(figsize=(10, 10))\n",
    "for i in range(min(16, filters.shape[0])):\n",
    "    plt.subplot(4, 4, i+1)\n",
    "    filter_rgb = filters[i].transpose(1, 2, 0)\n",
    "    filter_rgb = (filter_rgb - filter_rgb.min()) / (filter_rgb.max() - filter_rgb.min())\n",
    "    plt.imshow(filter_rgb)\n",
    "    plt.axis('off')\n",
    "plt.suptitle('Conv1 Filters')\n",
    "plt.show()\n",
    "\n",
    "# Визуализация feature maps\n",
    "model.eval()\n",
    "with torch.no_grad():\n",
    "    images, _ = next(iter(test_loader))\n",
    "    images = images.to(device)\n",
    "    conv1_output = model.conv1(images[0:1]).cpu().numpy()\n",
    "    plt.figure(figsize=(10, 10))\n",
    "    for i in range(min(16, conv1_output.shape[1])):\n",
    "        plt.subplot(4, 4, i+1)\n",
    "        plt.imshow(conv1_output[0, i], cmap='gray')\n",
    "        plt.axis('off')\n",
    "    plt.suptitle('Conv1 Feature Maps')\n",
    "    plt.show()\n",
    "\n",
    "# Визуализация метрик\n",
    "plt.figure(figsize=(12, 4))\n",
    "plt.subplot(1, 2, 1)\n",
    "plt.plot(train_losses, label='Train Loss')\n",
    "plt.xlabel('Epoch')\n",
    "plt.ylabel('Loss')\n",
    "plt.title('Training Loss')\n",
    "plt.legend()\n",
    "plt.subplot(1, 2, 2)\n",
    "plt.plot(test_accuracies, label='Test Accuracy')\n",
    "plt.xlabel('Epoch')\n",
    "plt.ylabel('Accuracy (%)')\n",
    "plt.title('Test Accuracy')\n",
    "plt.legend()\n",
    "plt.tight_layout()\n",
    "plt.show()"
   ]
  },
  {
   "cell_type": "code",
   "execution_count": 2,
   "id": "91781022-6b33-48e0-a4ca-7b9db94a3186",
   "metadata": {},
   "outputs": [
    {
     "name": "stdout",
     "output_type": "stream",
     "text": [
      "True\n",
      "2.5.1+cu121\n"
     ]
    }
   ],
   "source": [
    "import torch\n",
    "print(torch.cuda.is_available())  # Должно вернуть True\n",
    "print(torch.__version__)  # Проверьте версию PyTorch"
   ]
  },
  {
   "cell_type": "code",
   "execution_count": null,
   "id": "eec16977-f008-4580-bd85-6f71cbc8d8ca",
   "metadata": {},
   "outputs": [],
   "source": []
  }
 ],
 "metadata": {
  "kernelspec": {
   "display_name": "MentorEx2 Kernel",
   "language": "python",
   "name": "mentorex2"
  },
  "language_info": {
   "codemirror_mode": {
    "name": "ipython",
    "version": 3
   },
   "file_extension": ".py",
   "mimetype": "text/x-python",
   "name": "python",
   "nbconvert_exporter": "python",
   "pygments_lexer": "ipython3",
   "version": "3.11.13"
  }
 },
 "nbformat": 4,
 "nbformat_minor": 5
}
