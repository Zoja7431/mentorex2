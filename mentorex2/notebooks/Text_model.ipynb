{
 "cells": [
  {
   "cell_type": "markdown",
   "id": "db40e77e-f273-4bd0-b968-027db7ec13e6",
   "metadata": {},
   "source": [
    "# Классификатор отзывов"
   ]
  },
  {
   "cell_type": "markdown",
   "id": "158e93bd-c782-4c3e-b74d-7c9aad591c2c",
   "metadata": {},
   "source": [
    "Импорт библиотек"
   ]
  },
  {
   "cell_type": "code",
   "execution_count": 2,
   "id": "e0e0393c-db36-4260-a9d9-7d4ce9f4a2ac",
   "metadata": {},
   "outputs": [],
   "source": [
    "import pandas as pd\n",
    "import seaborn as sns\n",
    "import matplotlib.pyplot as plt\n",
    "from nltk.tokenize import word_tokenize\n",
    "from nltk.corpus import stopwords\n",
    "from collections import Counter\n",
    "import re\n",
    "import nltk\n",
    "from sklearn.model_selection import train_test_split\n",
    "from sklearn.metrics import accuracy_score, classification_report\n",
    "import numpy as np\n",
    "import torch\n",
    "import torch.nn as nn\n",
    "from torch.utils.data import DataLoader, TensorDataset, RandomSampler, SequentialSampler\n",
    "from transformers import BertTokenizer, BertForSequenceClassification\n",
    "from tqdm import tqdm\n",
    "import time\n",
    "import os"
   ]
  },
  {
   "cell_type": "code",
   "execution_count": 2,
   "id": "cffa5726-0479-4eb0-9089-289a4d60bf34",
   "metadata": {},
   "outputs": [],
   "source": [
    "import os\n",
    "os.environ[\"TRANSFORMERS_NO_TF\"] = \"1\"  # Отключает TensorFlow\n",
    "os.environ[\"TRANSFORMERS_NO_JAX\"] = \"1\"  # Отключает JAX (опционально)"
   ]
  },
  {
   "cell_type": "code",
   "execution_count": 20,
   "id": "7c17cbd8-32e3-4e81-ab4f-15c1b9b71079",
   "metadata": {},
   "outputs": [
    {
     "name": "stdout",
     "output_type": "stream",
     "text": [
      "Using device: cuda\n"
     ]
    }
   ],
   "source": [
    "# Проверяем доступность GPU\n",
    "device = torch.device(\"cuda\" if torch.cuda.is_available() else \"cpu\")\n",
    "print(f\"Using device: {device}\")"
   ]
  },
  {
   "cell_type": "code",
   "execution_count": 3,
   "id": "b950df82-baf5-492d-af94-cb238ab036fe",
   "metadata": {},
   "outputs": [
    {
     "name": "stderr",
     "output_type": "stream",
     "text": [
      "[nltk_data] Downloading package punkt_tab to C:\\Users\\Delta-\n",
      "[nltk_data]     Game\\AppData\\Roaming\\nltk_data...\n",
      "[nltk_data]   Package punkt_tab is already up-to-date!\n",
      "[nltk_data] Downloading package stopwords to C:\\Users\\Delta-\n",
      "[nltk_data]     Game\\AppData\\Roaming\\nltk_data...\n",
      "[nltk_data]   Package stopwords is already up-to-date!\n",
      "[nltk_data] Downloading package wordnet to C:\\Users\\Delta-\n",
      "[nltk_data]     Game\\AppData\\Roaming\\nltk_data...\n",
      "[nltk_data]   Package wordnet is already up-to-date!\n"
     ]
    },
    {
     "data": {
      "text/plain": [
       "True"
      ]
     },
     "execution_count": 3,
     "metadata": {},
     "output_type": "execute_result"
    }
   ],
   "source": [
    "nltk.download('punkt_tab')\n",
    "nltk.download('stopwords')\n",
    "nltk.download('wordnet')"
   ]
  },
  {
   "cell_type": "markdown",
   "id": "89b55e00-1e84-48cc-b271-9627405ed5e2",
   "metadata": {},
   "source": [
    "Импорт датасета"
   ]
  },
  {
   "cell_type": "code",
   "execution_count": 4,
   "id": "40389205-cfde-4221-b699-49d6e7168440",
   "metadata": {},
   "outputs": [
    {
     "data": {
      "text/html": [
       "<div>\n",
       "<style scoped>\n",
       "    .dataframe tbody tr th:only-of-type {\n",
       "        vertical-align: middle;\n",
       "    }\n",
       "\n",
       "    .dataframe tbody tr th {\n",
       "        vertical-align: top;\n",
       "    }\n",
       "\n",
       "    .dataframe thead th {\n",
       "        text-align: right;\n",
       "    }\n",
       "</style>\n",
       "<table border=\"1\" class=\"dataframe\">\n",
       "  <thead>\n",
       "    <tr style=\"text-align: right;\">\n",
       "      <th></th>\n",
       "      <th>review</th>\n",
       "      <th>sentiment</th>\n",
       "    </tr>\n",
       "  </thead>\n",
       "  <tbody>\n",
       "    <tr>\n",
       "      <th>0</th>\n",
       "      <td>One of the other reviewers has mentioned that ...</td>\n",
       "      <td>positive</td>\n",
       "    </tr>\n",
       "    <tr>\n",
       "      <th>1</th>\n",
       "      <td>A wonderful little production. &lt;br /&gt;&lt;br /&gt;The...</td>\n",
       "      <td>positive</td>\n",
       "    </tr>\n",
       "    <tr>\n",
       "      <th>2</th>\n",
       "      <td>I thought this was a wonderful way to spend ti...</td>\n",
       "      <td>positive</td>\n",
       "    </tr>\n",
       "    <tr>\n",
       "      <th>3</th>\n",
       "      <td>Basically there's a family where a little boy ...</td>\n",
       "      <td>negative</td>\n",
       "    </tr>\n",
       "    <tr>\n",
       "      <th>4</th>\n",
       "      <td>Petter Mattei's \"Love in the Time of Money\" is...</td>\n",
       "      <td>positive</td>\n",
       "    </tr>\n",
       "  </tbody>\n",
       "</table>\n",
       "</div>"
      ],
      "text/plain": [
       "                                              review sentiment\n",
       "0  One of the other reviewers has mentioned that ...  positive\n",
       "1  A wonderful little production. <br /><br />The...  positive\n",
       "2  I thought this was a wonderful way to spend ti...  positive\n",
       "3  Basically there's a family where a little boy ...  negative\n",
       "4  Petter Mattei's \"Love in the Time of Money\" is...  positive"
      ]
     },
     "execution_count": 4,
     "metadata": {},
     "output_type": "execute_result"
    }
   ],
   "source": [
    "df = pd.read_csv('C:/Users/Delta-Game/Desktop/Jupyter_projects/MentorEx/IMDB Dataset.csv')\n",
    "df.head()"
   ]
  },
  {
   "cell_type": "code",
   "execution_count": 5,
   "id": "5773c24a-eb18-4407-8b06-2195ca1365e5",
   "metadata": {},
   "outputs": [
    {
     "data": {
      "text/plain": [
       "sentiment\n",
       "positive    25000\n",
       "negative    25000\n",
       "Name: count, dtype: int64"
      ]
     },
     "execution_count": 5,
     "metadata": {},
     "output_type": "execute_result"
    }
   ],
   "source": [
    "# Баланс классов\n",
    "df['sentiment'].value_counts()"
   ]
  },
  {
   "cell_type": "code",
   "execution_count": 6,
   "id": "a1dd60e9-d876-48d1-a00b-54ef8d0915df",
   "metadata": {},
   "outputs": [
    {
     "data": {
      "text/html": [
       "<div>\n",
       "<style scoped>\n",
       "    .dataframe tbody tr th:only-of-type {\n",
       "        vertical-align: middle;\n",
       "    }\n",
       "\n",
       "    .dataframe tbody tr th {\n",
       "        vertical-align: top;\n",
       "    }\n",
       "\n",
       "    .dataframe thead th {\n",
       "        text-align: right;\n",
       "    }\n",
       "</style>\n",
       "<table border=\"1\" class=\"dataframe\">\n",
       "  <thead>\n",
       "    <tr style=\"text-align: right;\">\n",
       "      <th></th>\n",
       "      <th>review</th>\n",
       "      <th>sentiment</th>\n",
       "    </tr>\n",
       "  </thead>\n",
       "  <tbody>\n",
       "    <tr>\n",
       "      <th>count</th>\n",
       "      <td>50000</td>\n",
       "      <td>50000</td>\n",
       "    </tr>\n",
       "    <tr>\n",
       "      <th>unique</th>\n",
       "      <td>49582</td>\n",
       "      <td>2</td>\n",
       "    </tr>\n",
       "    <tr>\n",
       "      <th>top</th>\n",
       "      <td>Loved today's show!!! It was a variety and not...</td>\n",
       "      <td>positive</td>\n",
       "    </tr>\n",
       "    <tr>\n",
       "      <th>freq</th>\n",
       "      <td>5</td>\n",
       "      <td>25000</td>\n",
       "    </tr>\n",
       "  </tbody>\n",
       "</table>\n",
       "</div>"
      ],
      "text/plain": [
       "                                                   review sentiment\n",
       "count                                               50000     50000\n",
       "unique                                              49582         2\n",
       "top     Loved today's show!!! It was a variety and not...  positive\n",
       "freq                                                    5     25000"
      ]
     },
     "execution_count": 6,
     "metadata": {},
     "output_type": "execute_result"
    }
   ],
   "source": [
    "df.describe()"
   ]
  },
  {
   "cell_type": "code",
   "execution_count": 7,
   "id": "13c13c8a-e905-4ee0-ad94-2ee1ed6870b7",
   "metadata": {},
   "outputs": [
    {
     "name": "stdout",
     "output_type": "stream",
     "text": [
      "\n",
      "Duplicates: 418\n",
      "Missing values: review       0\n",
      "sentiment    0\n",
      "dtype: int64\n",
      "Reviews with <br /> tags: 29200\n"
     ]
    }
   ],
   "source": [
    "# Дубликаты и шум\n",
    "print(\"\\nDuplicates:\", df.duplicated().sum())\n",
    "print(\"Missing values:\", df.isnull().sum())\n",
    "# Проверка HTML-тегов\n",
    "html_samples = df['review'].str.contains('<br />').sum()\n",
    "print(\"Reviews with <br /> tags:\", html_samples)"
   ]
  },
  {
   "cell_type": "code",
   "execution_count": 8,
   "id": "c6beb70f-20a7-4b77-b1f4-56902ed348a7",
   "metadata": {},
   "outputs": [
    {
     "name": "stdout",
     "output_type": "stream",
     "text": [
      "\n",
      "Статистика длины отзывов (слова):\n",
      "             count       mean         std   min    25%    50%    75%     max\n",
      "sentiment                                                                   \n",
      "negative   25000.0  278.60944  201.294667   8.0  153.0  211.0  338.0  1936.0\n",
      "positive   25000.0  280.35800  214.399014  11.0  148.0  207.0  343.0  2911.0\n",
      "\n",
      "Статистика длины отзывов (символы):\n",
      "             count        mean          std   min    25%    50%      75%  \\\n",
      "sentiment                                                                  \n",
      "negative   25000.0  1294.06436   945.892669  32.0  706.0  973.0  1567.25   \n",
      "positive   25000.0  1324.79768  1031.492627  65.0  691.0  968.0  1614.00   \n",
      "\n",
      "               max  \n",
      "sentiment           \n",
      "negative    8969.0  \n",
      "positive   13704.0  \n"
     ]
    }
   ],
   "source": [
    "# Длина отзывов\n",
    "df['length_words'] = df['review'].apply(lambda x: len(word_tokenize(x)))\n",
    "df['length_chars'] = df['review'].apply(len)\n",
    "print(\"\\nСтатистика длины отзывов (слова):\")\n",
    "print(df.groupby('sentiment')['length_words'].describe())\n",
    "print(\"\\nСтатистика длины отзывов (символы):\")\n",
    "print(df.groupby('sentiment')['length_chars'].describe())"
   ]
  },
  {
   "cell_type": "code",
   "execution_count": 9,
   "id": "abced2ea-aacd-4d94-91be-e712632306aa",
   "metadata": {},
   "outputs": [
    {
     "name": "stdout",
     "output_type": "stream",
     "text": [
      "\n",
      "Top 10 words for positive reviews: [('film', 40166), ('movie', 36709), ('one', 26294), ('like', 17180), ('good', 14573), ('great', 12812), ('story', 12612), ('time', 12129), ('see', 11985), ('well', 11406)]\n",
      "Top 10 words for negative reviews: [('movie', 48525), ('film', 35867), ('one', 25185), ('like', 21883), ('even', 15098), ('bad', 14374), ('good', 14340), ('would', 13653), ('really', 12293), ('time', 11841)]\n"
     ]
    }
   ],
   "source": [
    "# Топ-10 слов по классам\n",
    "stop_words = set(stopwords.words('english'))\n",
    "def clean_text(text):\n",
    "    text = re.sub(r'<br />', ' ', text.lower())\n",
    "    text = re.sub(r'[^a-z ]', '', text)\n",
    "    tokens = word_tokenize(text)\n",
    "    return [w for w in tokens if w not in stop_words]\n",
    "\n",
    "# для positive\n",
    "positive_reviews = df[df['sentiment'] == 'positive']['review']\n",
    "positive_words = [word for review in positive_reviews for word in clean_text(review)]\n",
    "positive_top = Counter(positive_words).most_common(10)\n",
    "print(\"\\nTop 10 words for positive reviews:\", positive_top)\n",
    "\n",
    "# для negative\n",
    "negative_reviews = df[df['sentiment'] == 'negative']['review']\n",
    "negative_words = [word for review in negative_reviews for word in clean_text(review)]\n",
    "negative_top = Counter(negative_words).most_common(10)\n",
    "print(\"Top 10 words for negative reviews:\", negative_top)"
   ]
  },
  {
   "cell_type": "code",
   "execution_count": 10,
   "id": "7fa265a8-2612-4d5f-8944-0eae393cb12c",
   "metadata": {},
   "outputs": [
    {
     "data": {
      "text/html": [
       "<div>\n",
       "<style scoped>\n",
       "    .dataframe tbody tr th:only-of-type {\n",
       "        vertical-align: middle;\n",
       "    }\n",
       "\n",
       "    .dataframe tbody tr th {\n",
       "        vertical-align: top;\n",
       "    }\n",
       "\n",
       "    .dataframe thead th {\n",
       "        text-align: right;\n",
       "    }\n",
       "</style>\n",
       "<table border=\"1\" class=\"dataframe\">\n",
       "  <thead>\n",
       "    <tr style=\"text-align: right;\">\n",
       "      <th></th>\n",
       "      <th>review</th>\n",
       "      <th>sentiment</th>\n",
       "      <th>length_words</th>\n",
       "      <th>length_chars</th>\n",
       "    </tr>\n",
       "  </thead>\n",
       "  <tbody>\n",
       "    <tr>\n",
       "      <th>0</th>\n",
       "      <td>One of the other reviewers has mentioned that ...</td>\n",
       "      <td>1</td>\n",
       "      <td>380</td>\n",
       "      <td>1761</td>\n",
       "    </tr>\n",
       "    <tr>\n",
       "      <th>1</th>\n",
       "      <td>A wonderful little production. &lt;br /&gt;&lt;br /&gt;The...</td>\n",
       "      <td>1</td>\n",
       "      <td>201</td>\n",
       "      <td>998</td>\n",
       "    </tr>\n",
       "    <tr>\n",
       "      <th>2</th>\n",
       "      <td>I thought this was a wonderful way to spend ti...</td>\n",
       "      <td>1</td>\n",
       "      <td>205</td>\n",
       "      <td>926</td>\n",
       "    </tr>\n",
       "    <tr>\n",
       "      <th>3</th>\n",
       "      <td>Basically there's a family where a little boy ...</td>\n",
       "      <td>0</td>\n",
       "      <td>175</td>\n",
       "      <td>748</td>\n",
       "    </tr>\n",
       "    <tr>\n",
       "      <th>4</th>\n",
       "      <td>Petter Mattei's \"Love in the Time of Money\" is...</td>\n",
       "      <td>1</td>\n",
       "      <td>283</td>\n",
       "      <td>1317</td>\n",
       "    </tr>\n",
       "  </tbody>\n",
       "</table>\n",
       "</div>"
      ],
      "text/plain": [
       "                                              review  sentiment  length_words  \\\n",
       "0  One of the other reviewers has mentioned that ...          1           380   \n",
       "1  A wonderful little production. <br /><br />The...          1           201   \n",
       "2  I thought this was a wonderful way to spend ti...          1           205   \n",
       "3  Basically there's a family where a little boy ...          0           175   \n",
       "4  Petter Mattei's \"Love in the Time of Money\" is...          1           283   \n",
       "\n",
       "   length_chars  \n",
       "0          1761  \n",
       "1           998  \n",
       "2           926  \n",
       "3           748  \n",
       "4          1317  "
      ]
     },
     "execution_count": 10,
     "metadata": {},
     "output_type": "execute_result"
    }
   ],
   "source": [
    "# Категориальные данные\n",
    "df['sentiment'] = df['sentiment'].map({'positive': 1, 'negative': 0})\n",
    "df.head()"
   ]
  },
  {
   "cell_type": "code",
   "execution_count": 11,
   "id": "c60ac840-f200-4bb7-9f25-bef912fdaea0",
   "metadata": {},
   "outputs": [
    {
     "data": {
      "text/html": [
       "<div>\n",
       "<style scoped>\n",
       "    .dataframe tbody tr th:only-of-type {\n",
       "        vertical-align: middle;\n",
       "    }\n",
       "\n",
       "    .dataframe tbody tr th {\n",
       "        vertical-align: top;\n",
       "    }\n",
       "\n",
       "    .dataframe thead th {\n",
       "        text-align: right;\n",
       "    }\n",
       "</style>\n",
       "<table border=\"1\" class=\"dataframe\">\n",
       "  <thead>\n",
       "    <tr style=\"text-align: right;\">\n",
       "      <th></th>\n",
       "      <th>review</th>\n",
       "      <th>sentiment</th>\n",
       "      <th>length_words</th>\n",
       "      <th>length_chars</th>\n",
       "      <th>cleaned_review</th>\n",
       "    </tr>\n",
       "  </thead>\n",
       "  <tbody>\n",
       "    <tr>\n",
       "      <th>0</th>\n",
       "      <td>One of the other reviewers has mentioned that ...</td>\n",
       "      <td>1</td>\n",
       "      <td>380</td>\n",
       "      <td>1761</td>\n",
       "      <td>[one, reviewers, mentioned, watching, oz, epis...</td>\n",
       "    </tr>\n",
       "    <tr>\n",
       "      <th>1</th>\n",
       "      <td>A wonderful little production. &lt;br /&gt;&lt;br /&gt;The...</td>\n",
       "      <td>1</td>\n",
       "      <td>201</td>\n",
       "      <td>998</td>\n",
       "      <td>[wonderful, little, production, filming, techn...</td>\n",
       "    </tr>\n",
       "    <tr>\n",
       "      <th>2</th>\n",
       "      <td>I thought this was a wonderful way to spend ti...</td>\n",
       "      <td>1</td>\n",
       "      <td>205</td>\n",
       "      <td>926</td>\n",
       "      <td>[thought, wonderful, way, spend, time, hot, su...</td>\n",
       "    </tr>\n",
       "    <tr>\n",
       "      <th>3</th>\n",
       "      <td>Basically there's a family where a little boy ...</td>\n",
       "      <td>0</td>\n",
       "      <td>175</td>\n",
       "      <td>748</td>\n",
       "      <td>[basically, theres, family, little, boy, jake,...</td>\n",
       "    </tr>\n",
       "    <tr>\n",
       "      <th>4</th>\n",
       "      <td>Petter Mattei's \"Love in the Time of Money\" is...</td>\n",
       "      <td>1</td>\n",
       "      <td>283</td>\n",
       "      <td>1317</td>\n",
       "      <td>[petter, matteis, love, time, money, visually,...</td>\n",
       "    </tr>\n",
       "  </tbody>\n",
       "</table>\n",
       "</div>"
      ],
      "text/plain": [
       "                                              review  sentiment  length_words  \\\n",
       "0  One of the other reviewers has mentioned that ...          1           380   \n",
       "1  A wonderful little production. <br /><br />The...          1           201   \n",
       "2  I thought this was a wonderful way to spend ti...          1           205   \n",
       "3  Basically there's a family where a little boy ...          0           175   \n",
       "4  Petter Mattei's \"Love in the Time of Money\" is...          1           283   \n",
       "\n",
       "   length_chars                                     cleaned_review  \n",
       "0          1761  [one, reviewers, mentioned, watching, oz, epis...  \n",
       "1           998  [wonderful, little, production, filming, techn...  \n",
       "2           926  [thought, wonderful, way, spend, time, hot, su...  \n",
       "3           748  [basically, theres, family, little, boy, jake,...  \n",
       "4          1317  [petter, matteis, love, time, money, visually,...  "
      ]
     },
     "execution_count": 11,
     "metadata": {},
     "output_type": "execute_result"
    }
   ],
   "source": [
    "# Разделение на тренировочную и тестовую выборки\n",
    "df['cleaned_review'] = df['review'].apply(clean_text)\n",
    "train_texts, test_texts, train_labels, test_labels = train_test_split(\n",
    "    df['cleaned_review'].tolist(), \n",
    "    df['sentiment'].tolist(), \n",
    "    test_size=0.2, \n",
    "    random_state=42,\n",
    "    stratify=df['sentiment']\n",
    ")\n",
    "df.head()"
   ]
  },
  {
   "cell_type": "markdown",
   "id": "adf56cd0-4ba5-4df1-aabc-2f32c6269fcb",
   "metadata": {},
   "source": [
    "# BERT"
   ]
  },
  {
   "cell_type": "code",
   "execution_count": 21,
   "id": "d2c85ffc-6145-4ff1-a72f-35d8da78cd5e",
   "metadata": {},
   "outputs": [
    {
     "name": "stdout",
     "output_type": "stream",
     "text": [
      "Tokenizing training data...\n"
     ]
    },
    {
     "name": "stderr",
     "output_type": "stream",
     "text": [
      "C:\\Users\\Delta-Game\\AppData\\Local\\Temp\\ipykernel_12856\\1390920367.py:24: UserWarning: To copy construct from a tensor, it is recommended to use sourceTensor.clone().detach() or sourceTensor.clone().detach().requires_grad_(True), rather than torch.tensor(sourceTensor).\n",
      "  labels = torch.tensor(labels)\n"
     ]
    },
    {
     "name": "stdout",
     "output_type": "stream",
     "text": [
      "Tokenizing test data...\n"
     ]
    }
   ],
   "source": [
    "tokenizer = BertTokenizer.from_pretrained('bert-base-uncased')\n",
    "\n",
    "# Токенизация данных\n",
    "def tokenize_data(texts, labels, max_length=512):\n",
    "    input_ids = []\n",
    "    attention_masks = []\n",
    "    \n",
    "    for text in texts:\n",
    "        encoded_dict = tokenizer.encode_plus(\n",
    "            text,                      # Текст для токенизации\n",
    "            add_special_tokens=True,   # Добавляем [CLS] и [SEP]\n",
    "            max_length=max_length,     # Максимальная длина последовательности\n",
    "            padding='max_length',      # Дополняем до max_length\n",
    "            truncation=True,           # Обрезаем если longer than max_length\n",
    "            return_attention_mask=True, # Возвращаем маску внимания\n",
    "            return_tensors='pt',       # Возвращаем тензоры PyTorch\n",
    "        )\n",
    "        \n",
    "        input_ids.append(encoded_dict['input_ids'])\n",
    "        attention_masks.append(encoded_dict['attention_mask'])\n",
    "    \n",
    "    input_ids = torch.cat(input_ids, dim=0)\n",
    "    attention_masks = torch.cat(attention_masks, dim=0)\n",
    "    labels = torch.tensor(labels)\n",
    "    \n",
    "    return input_ids, attention_masks, labels\n",
    "\n",
    "# Токенизируем тренировочные и тестовые данные\n",
    "print(\"Tokenizing training data...\")\n",
    "train_input_ids, train_attention_masks, train_labels = tokenize_data(train_texts, train_labels)\n",
    "\n",
    "print(\"Tokenizing test data...\")\n",
    "test_input_ids, test_attention_masks, test_labels = tokenize_data(test_texts, test_labels)\n",
    "\n"
   ]
  },
  {
   "cell_type": "code",
   "execution_count": 22,
   "id": "e176bed9-b23c-406b-8c54-f2e76601745a",
   "metadata": {},
   "outputs": [],
   "source": [
    "# Создаем DataLoader\n",
    "batch_size = 16\n",
    "\n",
    "train_data = TensorDataset(train_input_ids, train_attention_masks, train_labels)\n",
    "train_sampler = RandomSampler(train_data)\n",
    "train_dataloader = DataLoader(train_data, sampler=train_sampler, batch_size=batch_size)\n",
    "\n",
    "test_data = TensorDataset(test_input_ids, test_attention_masks, test_labels)\n",
    "test_sampler = SequentialSampler(test_data)\n",
    "test_dataloader = DataLoader(test_data, sampler=test_sampler, batch_size=batch_size)"
   ]
  },
  {
   "cell_type": "code",
   "execution_count": 24,
   "id": "9e9dfe40-36a8-4ad8-83aa-537522ee3c14",
   "metadata": {},
   "outputs": [
    {
     "name": "stdout",
     "output_type": "stream",
     "text": [
      "Model device: cuda:0\n"
     ]
    }
   ],
   "source": [
    "# Перемещаем модель на устройство\n",
    "model.to(device)\n",
    "print(f\"Model device: {next(model.parameters()).device}\")\n",
    "\n",
    "# Используем стандартный оптимизатор PyTorch\n",
    "optimizer = torch.optim.Adam(model.parameters(), lr=2e-5, weight_decay=0.01)\n",
    "\n",
    "# Функция для расчета точности\n",
    "def flat_accuracy(preds, labels):\n",
    "    pred_flat = np.argmax(preds, axis=1).flatten()\n",
    "    labels_flat = labels.flatten()\n",
    "    return np.sum(pred_flat == labels_flat) / len(labels_flat)\n"
   ]
  },
  {
   "cell_type": "code",
   "execution_count": 25,
   "id": "f47e6cae-ad72-41b8-9f56-787ba8d9ebda",
   "metadata": {},
   "outputs": [
    {
     "name": "stdout",
     "output_type": "stream",
     "text": [
      "======== Epoch 1 / 3 ========\n",
      "Training...\n"
     ]
    },
    {
     "name": "stderr",
     "output_type": "stream",
     "text": [
      "Training:   0%|                                                                               | 0/2500 [00:00<?, ?it/s]"
     ]
    },
    {
     "name": "stdout",
     "output_type": "stream",
     "text": [
      "Batch data device - input_ids: cuda:0\n",
      "Batch data device - attention_mask: cuda:0\n",
      "Batch data device - labels: cuda:0\n",
      "Model device: cuda:0\n"
     ]
    },
    {
     "name": "stderr",
     "output_type": "stream",
     "text": [
      "Training: 100%|████████████████████████████████████████████████████████████████████| 2500/2500 [28:48<00:00,  1.45it/s]\n"
     ]
    },
    {
     "name": "stdout",
     "output_type": "stream",
     "text": [
      "Average training loss: 0.42\n",
      "Running Validation...\n"
     ]
    },
    {
     "name": "stderr",
     "output_type": "stream",
     "text": [
      "Evaluating: 100%|████████████████████████████████████████████████████████████████████| 625/625 [01:58<00:00,  5.25it/s]\n"
     ]
    },
    {
     "name": "stdout",
     "output_type": "stream",
     "text": [
      "Accuracy: 0.85\n",
      "======== Epoch 2 / 3 ========\n",
      "Training...\n"
     ]
    },
    {
     "name": "stderr",
     "output_type": "stream",
     "text": [
      "Training:   0%|                                                                               | 0/2500 [00:00<?, ?it/s]"
     ]
    },
    {
     "name": "stdout",
     "output_type": "stream",
     "text": [
      "Batch data device - input_ids: cuda:0\n",
      "Batch data device - attention_mask: cuda:0\n",
      "Batch data device - labels: cuda:0\n",
      "Model device: cuda:0\n"
     ]
    },
    {
     "name": "stderr",
     "output_type": "stream",
     "text": [
      "Training: 100%|████████████████████████████████████████████████████████████████████| 2500/2500 [28:24<00:00,  1.47it/s]\n"
     ]
    },
    {
     "name": "stdout",
     "output_type": "stream",
     "text": [
      "Average training loss: 0.42\n",
      "Running Validation...\n"
     ]
    },
    {
     "name": "stderr",
     "output_type": "stream",
     "text": [
      "Evaluating: 100%|████████████████████████████████████████████████████████████████████| 625/625 [01:59<00:00,  5.23it/s]\n"
     ]
    },
    {
     "name": "stdout",
     "output_type": "stream",
     "text": [
      "Accuracy: 0.82\n",
      "======== Epoch 3 / 3 ========\n",
      "Training...\n"
     ]
    },
    {
     "name": "stderr",
     "output_type": "stream",
     "text": [
      "Training:   0%|                                                                               | 0/2500 [00:00<?, ?it/s]"
     ]
    },
    {
     "name": "stdout",
     "output_type": "stream",
     "text": [
      "Batch data device - input_ids: cuda:0\n",
      "Batch data device - attention_mask: cuda:0\n",
      "Batch data device - labels: cuda:0\n",
      "Model device: cuda:0\n"
     ]
    },
    {
     "name": "stderr",
     "output_type": "stream",
     "text": [
      "Training: 100%|████████████████████████████████████████████████████████████████████| 2500/2500 [29:15<00:00,  1.42it/s]\n"
     ]
    },
    {
     "name": "stdout",
     "output_type": "stream",
     "text": [
      "Average training loss: 0.43\n",
      "Running Validation...\n"
     ]
    },
    {
     "name": "stderr",
     "output_type": "stream",
     "text": [
      "Evaluating: 100%|████████████████████████████████████████████████████████████████████| 625/625 [02:00<00:00,  5.18it/s]"
     ]
    },
    {
     "name": "stdout",
     "output_type": "stream",
     "text": [
      "Accuracy: 0.85\n",
      "Training complete!\n",
      "Total training took 92.46 minutes\n"
     ]
    },
    {
     "name": "stderr",
     "output_type": "stream",
     "text": [
      "\n"
     ]
    }
   ],
   "source": [
    "# Обучение модели\n",
    "training_stats = []\n",
    "total_t0 = time.time()\n",
    "epochs = 3\n",
    "\n",
    "for epoch_i in range(0, epochs):\n",
    "    print(f'======== Epoch {epoch_i + 1} / {epochs} ========')\n",
    "    print('Training...')\n",
    "    \n",
    "    total_train_loss = 0\n",
    "    model.train()\n",
    "    \n",
    "    for step, batch in enumerate(tqdm(train_dataloader, desc=\"Training\")):\n",
    "        # Перемещаем данные на устройство\n",
    "        b_input_ids = batch[0].to(device)\n",
    "        b_input_mask = batch[1].to(device)\n",
    "        b_labels = batch[2].to(device)\n",
    "        \n",
    "        # Проверяем, что все данные на правильном устройстве\n",
    "        if step == 0:\n",
    "            print(f\"Batch data device - input_ids: {b_input_ids.device}\")\n",
    "            print(f\"Batch data device - attention_mask: {b_input_mask.device}\")\n",
    "            print(f\"Batch data device - labels: {b_labels.device}\")\n",
    "            print(f\"Model device: {next(model.parameters()).device}\")\n",
    "        \n",
    "        model.zero_grad()\n",
    "        \n",
    "        outputs = model(\n",
    "            b_input_ids,\n",
    "            token_type_ids=None,\n",
    "            attention_mask=b_input_mask,\n",
    "            labels=b_labels\n",
    "        )\n",
    "        \n",
    "        loss = outputs.loss\n",
    "        total_train_loss += loss.item()\n",
    "        \n",
    "        loss.backward()\n",
    "        torch.nn.utils.clip_grad_norm_(model.parameters(), 1.0)\n",
    "        optimizer.step()\n",
    "    \n",
    "    avg_train_loss = total_train_loss / len(train_dataloader)\n",
    "    print(f\"Average training loss: {avg_train_loss:.2f}\")\n",
    "    \n",
    "    # Валидация\n",
    "    print(\"Running Validation...\")\n",
    "    model.eval()\n",
    "    total_eval_accuracy = 0\n",
    "    total_eval_loss = 0\n",
    "    \n",
    "    for batch in tqdm(test_dataloader, desc=\"Evaluating\"):\n",
    "        b_input_ids = batch[0].to(device)\n",
    "        b_input_mask = batch[1].to(device)\n",
    "        b_labels = batch[2].to(device)\n",
    "        \n",
    "        with torch.no_grad():\n",
    "            outputs = model(\n",
    "                b_input_ids,\n",
    "                token_type_ids=None,\n",
    "                attention_mask=b_input_mask,\n",
    "                labels=b_labels\n",
    "            )\n",
    "        \n",
    "        loss = outputs.loss\n",
    "        logits = outputs.logits\n",
    "        \n",
    "        total_eval_loss += loss.item()\n",
    "        logits = logits.detach().cpu().numpy()\n",
    "        label_ids = b_labels.to('cpu').numpy()\n",
    "        total_eval_accuracy += flat_accuracy(logits, label_ids)\n",
    "    \n",
    "    avg_val_accuracy = total_eval_accuracy / len(test_dataloader)\n",
    "    print(f\"Accuracy: {avg_val_accuracy:.2f}\")\n",
    "    \n",
    "    avg_val_loss = total_eval_loss / len(test_dataloader)\n",
    "    \n",
    "    training_stats.append({\n",
    "        'epoch': epoch_i + 1,\n",
    "        'Training Loss': avg_train_loss,\n",
    "        'Valid. Loss': avg_val_loss,\n",
    "        'Valid. Accur.': avg_val_accuracy\n",
    "    })\n",
    "\n",
    "print(\"Training complete!\")\n",
    "print(f\"Total training took {(time.time() - total_t0) / 60:.2f} minutes\")\n"
   ]
  },
  {
   "cell_type": "code",
   "execution_count": 26,
   "id": "168111b2-080e-41b1-a145-1d4faa9a913a",
   "metadata": {},
   "outputs": [
    {
     "name": "stdout",
     "output_type": "stream",
     "text": [
      "Saving model to ./model_save/\n",
      "Loading model for predictions...\n"
     ]
    }
   ],
   "source": [
    "# Сохранение модели\n",
    "output_dir = './model_save/'\n",
    "if not os.path.exists(output_dir):\n",
    "    os.makedirs(output_dir)\n",
    "\n",
    "print(f\"Saving model to {output_dir}\")\n",
    "model_to_save = model.module if hasattr(model, 'module') else model\n",
    "model_to_save.save_pretrained(output_dir)\n",
    "tokenizer.save_pretrained(output_dir)\n",
    "\n",
    "# Загрузка модели для предсказаний\n",
    "print(\"Loading model for predictions...\")\n",
    "model = BertForSequenceClassification.from_pretrained(output_dir)\n",
    "tokenizer = BertTokenizer.from_pretrained(output_dir)\n",
    "model.to(device)\n",
    "\n",
    "# Функция для предсказания на новых данных\n",
    "def predict_sentiment(text):\n",
    "    model.eval()\n",
    "    \n",
    "    # Очистка текста\n",
    "    text = re.sub(r'<br />', ' ', text.lower())\n",
    "    text = re.sub(r'[^a-z ]', '', text)\n",
    "    \n",
    "    encoded_dict = tokenizer.encode_plus(\n",
    "        text,\n",
    "        add_special_tokens=True,\n",
    "        max_length=128,\n",
    "        padding='max_length',\n",
    "        truncation=True,\n",
    "        return_attention_mask=True,\n",
    "        return_tensors='pt',\n",
    "    )\n",
    "    \n",
    "    input_id = encoded_dict['input_ids'].to(device)\n",
    "    attention_mask = encoded_dict['attention_mask'].to(device)\n",
    "    \n",
    "    with torch.no_grad():\n",
    "        outputs = model(input_id, token_type_ids=None, attention_mask=attention_mask)\n",
    "    \n",
    "    logits = outputs.logits\n",
    "    logits = logits.detach().cpu().numpy()\n",
    "    prediction = np.argmax(logits, axis=1).flatten()\n",
    "    \n",
    "    return \"Positive\" if prediction[0] == 1 else \"Negative\"\n"
   ]
  },
  {
   "cell_type": "code",
   "execution_count": 27,
   "id": "15d3e6ca-befe-4497-aff9-77cf44603e6c",
   "metadata": {},
   "outputs": [
    {
     "name": "stdout",
     "output_type": "stream",
     "text": [
      "\n",
      "Testing model predictions:\n",
      "'This movie was fantastic! I really enjoyed it.' -> Positive\n",
      "'This was the worst movie I've ever seen. Terrible acting and plot.' -> Negative\n",
      "'The film had some good moments but overall was disappointing.' -> Negative\n",
      "'An absolute masterpiece with brilliant performances.' -> Positive\n"
     ]
    }
   ],
   "source": [
    "# Пример предсказания\n",
    "print(\"\\nTesting model predictions:\")\n",
    "sample_texts = [\n",
    "    \"This movie was fantastic! I really enjoyed it.\",\n",
    "    \"This was the worst movie I've ever seen. Terrible acting and plot.\",\n",
    "    \"The film had some good moments but overall was disappointing.\",\n",
    "    \"An absolute masterpiece with brilliant performances.\"\n",
    "]\n",
    "\n",
    "for text in sample_texts:\n",
    "    sentiment = predict_sentiment(text)\n",
    "    print(f\"'{text}' -> {sentiment}\")"
   ]
  },
  {
   "cell_type": "code",
   "execution_count": 28,
   "id": "31752ad5-5d38-4e2f-81eb-13e038a56c01",
   "metadata": {},
   "outputs": [
    {
     "data": {
      "image/png": "[encoded data removed]",
      "text/plain": [
       "<Figure size 1200x500 with 2 Axes>"
      ]
     },
     "metadata": {},
     "output_type": "display_data"
    }
   ],
   "source": [
    "# Визуализация результатов обучения\n",
    "plt.figure(figsize=(12, 5))\n",
    "\n",
    "# График потерь\n",
    "plt.subplot(1, 2, 1)\n",
    "plt.plot([x['epoch'] for x in training_stats], [x['Training Loss'] for x in training_stats], label='Training')\n",
    "plt.plot([x['epoch'] for x in training_stats], [x['Valid. Loss'] for x in training_stats], label='Validation')\n",
    "plt.title('Training and Validation Loss')\n",
    "plt.xlabel('Epoch')\n",
    "plt.ylabel('Loss')\n",
    "plt.legend()\n",
    "\n",
    "# График точности\n",
    "plt.subplot(1, 2, 2)\n",
    "plt.plot([x['epoch'] for x in training_stats], [x['Valid. Accur.'] for x in training_stats], label='Validation')\n",
    "plt.title('Validation Accuracy')\n",
    "plt.xlabel('Epoch')\n",
    "plt.ylabel('Accuracy')\n",
    "plt.legend()\n",
    "\n",
    "plt.tight_layout()\n",
    "plt.savefig('./training_results.png')\n",
    "plt.show()\n"
   ]
  },
  {
   "cell_type": "markdown",
   "id": "b85c656a-6fef-4703-877e-e278c7c99dc2",
   "metadata": {},
   "source": [
    "Анализ кривых:  \n",
    "- Кривая train стабильна (около 0,42) - модель достигла плато слишком рано, возможно недообучение (слишком низкий learning rate?)\n",
    "- Кривая Validation нестабильна, что вроде бв нормально\n",
    "- Точно не переобучение, так как ошибка на train больше чем на validation\n",
    "- Теперь Validation Accurancy:\n",
    "    - Тоже нормально что нестабильна\n",
    "\n",
    "Вопросы:\n",
    "Как это анализировать?"
   ]
  },
  {
   "cell_type": "code",
   "execution_count": 29,
   "id": "8905ba7d-0d54-4e10-8090-46c4dc614d49",
   "metadata": {},
   "outputs": [
    {
     "name": "stdout",
     "output_type": "stream",
     "text": [
      "\n",
      "Detailed evaluation on test set:\n",
      "Classification Report:\n",
      "              precision    recall  f1-score   support\n",
      "\n",
      "    Negative       0.86      0.83      0.85      5000\n",
      "    Positive       0.84      0.87      0.85      5000\n",
      "\n",
      "    accuracy                           0.85     10000\n",
      "   macro avg       0.85      0.85      0.85     10000\n",
      "weighted avg       0.85      0.85      0.85     10000\n",
      "\n",
      "Final Accuracy: 0.8487\n"
     ]
    }
   ],
   "source": [
    "# Детальная оценка на тестовом наборе\n",
    "print(\"\\nDetailed evaluation on test set:\")\n",
    "model.eval()\n",
    "predictions = []\n",
    "true_labels = []\n",
    "\n",
    "for batch in test_dataloader:\n",
    "    b_input_ids = batch[0].to(device)\n",
    "    b_input_mask = batch[1].to(device)\n",
    "    b_labels = batch[2].to(device)\n",
    "    \n",
    "    with torch.no_grad():\n",
    "        outputs = model(b_input_ids, token_type_ids=None, attention_mask=b_input_mask)\n",
    "    \n",
    "    logits = outputs.logits\n",
    "    logits = logits.detach().cpu().numpy()\n",
    "    label_ids = b_labels.to('cpu').numpy()\n",
    "    \n",
    "    predictions.extend(np.argmax(logits, axis=1).flatten())\n",
    "    true_labels.extend(label_ids.flatten())\n",
    "\n",
    "print(\"Classification Report:\")\n",
    "print(classification_report(true_labels, predictions, target_names=['Negative', 'Positive']))\n",
    "\n",
    "print(f\"Final Accuracy: {accuracy_score(true_labels, predictions):.4f}\")"
   ]
  },
  {
   "cell_type": "markdown",
   "id": "a166e9b0-8003-4cc1-96f8-5f00747ac989",
   "metadata": {},
   "source": [
    "Анализ результатов:\n",
    "- precision: резница между FN и TP небольшая (0,02) - модель сбалансирована\n",
    "- recall: разница между FN и TP небольшая (0,03) - модель сбалансирована\n",
    "- f1 = 0.85 у обоих классов - нет смещения, это хорошо\n",
    "-  финальная точность - 0,85, что значит что модель правильно угадывает 85% отзывов - норм результат, но можно лучше"
   ]
  },
  {
   "cell_type": "markdown",
   "id": "57615ed7-aa4b-47ab-bd36-85a659a4a562",
   "metadata": {},
   "source": [
    "# RNN (LSTM и GRU)"
   ]
  },
  {
   "cell_type": "code",
   "execution_count": 43,
   "id": "dd209948-317e-4ce8-a86d-22eedb0d22d5",
   "metadata": {},
   "outputs": [
    {
     "name": "stdout",
     "output_type": "stream",
     "text": [
      "Vocabulary size: 20002\n"
     ]
    }
   ],
   "source": [
    "# Предобработка для RNN (LSTM/GRU)\n",
    "# Построить vocabulary из train_texts (списки слов)\n",
    "all_train_words = [word for text in train_texts for word in text]\n",
    "word_counts = Counter(all_train_words)\n",
    "vocab_size = 20000  # Ограничиваем топ-20000 слов\n",
    "vocab = {word: idx + 2 for idx, (word, _) in enumerate(word_counts.most_common(vocab_size))}\n",
    "vocab['<PAD>'] = 0\n",
    "vocab['<UNK>'] = 1\n",
    "print(f\"Vocabulary size: {len(vocab)}\")"
   ]
  },
  {
   "cell_type": "code",
   "execution_count": 44,
   "id": "02cbfa01-a0f5-4eb7-a798-72958eea7560",
   "metadata": {},
   "outputs": [
    {
     "name": "stderr",
     "output_type": "stream",
     "text": [
      "C:\\Users\\Delta-Game\\AppData\\Local\\Temp\\ipykernel_12856\\345277192.py:22: UserWarning: To copy construct from a tensor, it is recommended to use sourceTensor.clone().detach() or sourceTensor.clone().detach().requires_grad_(True), rather than torch.tensor(sourceTensor).\n",
      "  train_labels_tensor = torch.tensor(train_labels)\n",
      "C:\\Users\\Delta-Game\\AppData\\Local\\Temp\\ipykernel_12856\\345277192.py:23: UserWarning: To copy construct from a tensor, it is recommended to use sourceTensor.clone().detach() or sourceTensor.clone().detach().requires_grad_(True), rather than torch.tensor(sourceTensor).\n",
      "  test_labels_tensor = torch.tensor(test_labels)\n"
     ]
    }
   ],
   "source": [
    "# Функция для конвертации текста в последовательность индексов\n",
    "def text_to_sequence(text, vocab, max_length=256):\n",
    "    seq = [vocab.get(word, vocab['<UNK>']) for word in text]\n",
    "    if len(seq) > max_length:\n",
    "        seq = seq[:max_length]  # Truncation\n",
    "    return seq\n",
    "\n",
    "# Конвертировать train и test в последовательности\n",
    "max_length = 256  # На основе df['length_words'].quantile(0.95) ~250-300\n",
    "train_sequences = [torch.tensor(text_to_sequence(text, vocab, max_length)) for text in train_texts]\n",
    "test_sequences = [torch.tensor(text_to_sequence(text, vocab, max_length)) for text in test_texts]\n",
    "\n",
    "# Длины последовательностей (для pack_padded_sequence)\n",
    "train_lengths = [min(len(seq), max_length) for seq in train_sequences]\n",
    "test_lengths = [min(len(seq), max_length) for seq in test_sequences]\n",
    "\n",
    "# Padding\n",
    "train_padded = nn.utils.rnn.pad_sequence(train_sequences, batch_first=True, padding_value=0)\n",
    "test_padded = nn.utils.rnn.pad_sequence(test_sequences, batch_first=True, padding_value=0)\n",
    "\n",
    "# Создать тензоры labels\n",
    "train_labels_tensor = torch.tensor(train_labels)\n",
    "test_labels_tensor = torch.tensor(test_labels)"
   ]
  },
  {
   "cell_type": "code",
   "execution_count": 45,
   "id": "33eb74b4-4bc3-4972-ac46-ed5ee4771206",
   "metadata": {},
   "outputs": [],
   "source": [
    "# DataLoaders для RNN (с lengths)\n",
    "batch_size_rnn = 64\n",
    "train_data_rnn = TensorDataset(train_padded, torch.tensor(train_lengths), train_labels_tensor)\n",
    "test_data_rnn = TensorDataset(test_padded, torch.tensor(test_lengths), test_labels_tensor)\n",
    "\n",
    "train_dataloader_rnn = DataLoader(train_data_rnn, sampler=RandomSampler(train_data_rnn), batch_size=batch_size_rnn)\n",
    "test_dataloader_rnn = DataLoader(test_data_rnn, sampler=SequentialSampler(test_data_rnn), batch_size=batch_size_rnn)"
   ]
  },
  {
   "cell_type": "code",
   "execution_count": 50,
   "id": "f558b57b-fad4-4b55-a776-9751a719ea95",
   "metadata": {},
   "outputs": [],
   "source": [
    "# Определение модели RNN\n",
    "class RNNModel(nn.Module):\n",
    "    def __init__(self, vocab_size, embedding_dim, hidden_dim, num_layers, dropout, rnn_type='LSTM'):\n",
    "        super(RNNModel, self).__init__()\n",
    "        self.embedding = nn.Embedding(vocab_size, embedding_dim, padding_idx=0)\n",
    "        self.rnn_type = rnn_type\n",
    "        if rnn_type == 'LSTM':\n",
    "            self.rnn = nn.LSTM(embedding_dim, hidden_dim, num_layers, dropout=dropout, batch_first=True, bidirectional=True)\n",
    "        elif rnn_type == 'GRU':\n",
    "            self.rnn = nn.GRU(embedding_dim, hidden_dim, num_layers, dropout=dropout, batch_first=True, bidirectional=True)\n",
    "        self.fc = nn.Linear(hidden_dim * 2, 2)  # Для bidirectional\n",
    "        self.dropout = nn.Dropout(dropout)\n",
    "    \n",
    "    def forward(self, x, lengths):\n",
    "        embeds = self.embedding(x)\n",
    "        \n",
    "        # Pack (требует sorted по lengths descending)\n",
    "        packed_embeds = nn.utils.rnn.pack_padded_sequence(embeds, lengths.cpu(), batch_first=True, enforce_sorted=True)\n",
    "        \n",
    "        if self.rnn_type == 'LSTM':\n",
    "            packed_out, (h_n, c_n) = self.rnn(packed_embeds)\n",
    "        else:  # GRU\n",
    "            packed_out, h_n = self.rnn(packed_embeds)\n",
    "        \n",
    "        # h_n: (num_layers * 2, batch, hidden) для bidirectional\n",
    "        # Concat last layer forward + backward\n",
    "        h_n = torch.cat((h_n[-2, :, :], h_n[-1, :, :]), dim=1)  # (batch, hidden*2)\n",
    "        \n",
    "        out = self.dropout(h_n)\n",
    "        return self.fc(out)\n",
    "\n",
    "# Гиперпараметры\n",
    "embedding_dim = 300\n",
    "hidden_dim = 128\n",
    "num_layers = 2\n",
    "dropout = 0.3\n",
    "lr = 0.0005\n",
    "epochs_rnn = 10"
   ]
  },
  {
   "cell_type": "code",
   "execution_count": 51,
   "id": "c3ec5332-ed25-4ae0-b9d3-8b6179b7e1f5",
   "metadata": {},
   "outputs": [],
   "source": [
    "# Функция для обучения\n",
    "def train_rnn(model, train_dataloader, test_dataloader, epochs, lr, device):\n",
    "    model.to(device)\n",
    "    optimizer = torch.optim.Adam(model.parameters(), lr=lr, weight_decay=0.01)\n",
    "    criterion = nn.CrossEntropyLoss()\n",
    "    \n",
    "    training_stats = []\n",
    "    for epoch in range(epochs):\n",
    "        print(f'======== Epoch {epoch + 1} / {epochs} ========')\n",
    "        model.train()\n",
    "        total_train_loss = 0\n",
    "        for batch in tqdm(train_dataloader, desc=\"Training\"):\n",
    "            inputs, lengths, labels = batch[0].to(device), batch[1].to(device), batch[2].to(device)\n",
    "            \n",
    "            # Sort by lengths descending\n",
    "            sorted_idx = torch.argsort(lengths, descending=True)\n",
    "            inputs = inputs[sorted_idx]\n",
    "            lengths = lengths[sorted_idx]\n",
    "            labels = labels[sorted_idx]\n",
    "            \n",
    "            optimizer.zero_grad()\n",
    "            outputs = model(inputs, lengths)\n",
    "            loss = criterion(outputs, labels)\n",
    "            total_train_loss += loss.item()\n",
    "            loss.backward()\n",
    "            torch.nn.utils.clip_grad_norm_(model.parameters(), 1.0)\n",
    "            optimizer.step()\n",
    "        \n",
    "        avg_train_loss = total_train_loss / len(train_dataloader)\n",
    "        \n",
    "        # Validation\n",
    "        model.eval()\n",
    "        total_eval_loss = 0\n",
    "        total_eval_acc = 0\n",
    "        for batch in tqdm(test_dataloader, desc=\"Evaluating\"):\n",
    "            inputs, lengths, labels = batch[0].to(device), batch[1].to(device), batch[2].to(device)\n",
    "            \n",
    "            sorted_idx = torch.argsort(lengths, descending=True)\n",
    "            inputs = inputs[sorted_idx]\n",
    "            lengths = lengths[sorted_idx]\n",
    "            labels = labels[sorted_idx]\n",
    "            \n",
    "            with torch.no_grad():\n",
    "                outputs = model(inputs, lengths)\n",
    "            loss = criterion(outputs, labels)\n",
    "            total_eval_loss += loss.item()\n",
    "            preds = torch.argmax(outputs, dim=1).cpu().numpy()\n",
    "            total_eval_acc += np.mean(preds == labels.cpu().numpy())\n",
    "        \n",
    "        avg_val_loss = total_eval_loss / len(test_dataloader)\n",
    "        avg_val_acc = total_eval_acc / len(test_dataloader)\n",
    "        \n",
    "        training_stats.append({\n",
    "            'epoch': epoch + 1,\n",
    "            'Training Loss': avg_train_loss,\n",
    "            'Valid. Loss': avg_val_loss,\n",
    "            'Valid. Accur.': avg_val_acc\n",
    "        })\n",
    "        print(f\"Avg Train Loss: {avg_train_loss:.2f}, Val Loss: {avg_val_loss:.2f}, Val Acc: {avg_val_acc:.2f}\")\n",
    "    \n",
    "    return training_stats"
   ]
  },
  {
   "cell_type": "code",
   "execution_count": 52,
   "id": "8b4080b5-18c2-4dd0-b5ef-1f256662dbe3",
   "metadata": {},
   "outputs": [],
   "source": [
    "# Функция для визуализации\n",
    "def plot_stats(stats, title):\n",
    "    plt.figure(figsize=(12, 5))\n",
    "    plt.subplot(1, 2, 1)\n",
    "    plt.plot([x['epoch'] for x in stats], [x['Training Loss'] for x in stats], label='Train Loss')\n",
    "    plt.plot([x['epoch'] for x in stats], [x['Valid. Loss'] for x in stats], label='Val Loss')\n",
    "    plt.title(f'{title} Losses')\n",
    "    plt.xlabel('Epoch')\n",
    "    plt.ylabel('Loss')\n",
    "    plt.legend()\n",
    "    \n",
    "    plt.subplot(1, 2, 2)\n",
    "    plt.plot([x['epoch'] for x in stats], [x['Valid. Accur.'] for x in stats], label='Val Acc')\n",
    "    plt.title(f'{title} Accuracy')\n",
    "    plt.xlabel('Epoch')\n",
    "    plt.ylabel('Accuracy')\n",
    "    plt.legend()\n",
    "    \n",
    "    plt.tight_layout()\n",
    "    plt.savefig(f'./{title.lower()}_results.png')\n",
    "    plt.show()\n",
    "\n",
    "# Функция для оценки\n",
    "def evaluate_model(model, dataloader, device):\n",
    "    model.eval()\n",
    "    predictions, true_labels = [], []\n",
    "    for batch in dataloader:\n",
    "        inputs, lengths, labels = batch[0].to(device), batch[1].to(device), batch[2].to(device)\n",
    "        \n",
    "        sorted_idx = torch.argsort(lengths, descending=True)\n",
    "        inputs = inputs[sorted_idx]\n",
    "        lengths = lengths[sorted_idx]\n",
    "        labels = labels[sorted_idx]\n",
    "        \n",
    "        with torch.no_grad():\n",
    "            outputs = model(inputs, lengths)\n",
    "        preds = torch.argmax(outputs, dim=1).cpu().numpy()\n",
    "        predictions.extend(preds)\n",
    "        true_labels.extend(labels.cpu().numpy())\n",
    "    print(classification_report(true_labels, predictions, target_names=['Negative', 'Positive']))\n",
    "    print(f\"Accuracy: {accuracy_score(true_labels, predictions):.4f}\")"
   ]
  },
  {
   "cell_type": "code",
   "execution_count": 53,
   "id": "6a80f08d-af0d-42bf-bab5-aa0acaf4cbca",
   "metadata": {},
   "outputs": [
    {
     "name": "stdout",
     "output_type": "stream",
     "text": [
      "Training LSTM...\n",
      "======== Epoch 1 / 10 ========\n"
     ]
    },
    {
     "name": "stderr",
     "output_type": "stream",
     "text": [
      "Training: 100%|██████████████████████████████████████████████████████████████████████| 625/625 [00:45<00:00, 13.66it/s]\n",
      "Evaluating: 100%|████████████████████████████████████████████████████████████████████| 157/157 [00:04<00:00, 38.94it/s]\n"
     ]
    },
    {
     "name": "stdout",
     "output_type": "stream",
     "text": [
      "Avg Train Loss: 0.63, Val Loss: 0.54, Val Acc: 0.74\n",
      "======== Epoch 2 / 10 ========\n"
     ]
    },
    {
     "name": "stderr",
     "output_type": "stream",
     "text": [
      "Training: 100%|██████████████████████████████████████████████████████████████████████| 625/625 [00:45<00:00, 13.84it/s]\n",
      "Evaluating: 100%|████████████████████████████████████████████████████████████████████| 157/157 [00:03<00:00, 39.64it/s]\n"
     ]
    },
    {
     "name": "stdout",
     "output_type": "stream",
     "text": [
      "Avg Train Loss: 0.54, Val Loss: 0.52, Val Acc: 0.75\n",
      "======== Epoch 3 / 10 ========\n"
     ]
    },
    {
     "name": "stderr",
     "output_type": "stream",
     "text": [
      "Training: 100%|██████████████████████████████████████████████████████████████████████| 625/625 [00:45<00:00, 13.75it/s]\n",
      "Evaluating: 100%|████████████████████████████████████████████████████████████████████| 157/157 [00:04<00:00, 38.16it/s]\n"
     ]
    },
    {
     "name": "stdout",
     "output_type": "stream",
     "text": [
      "Avg Train Loss: 0.53, Val Loss: 0.60, Val Acc: 0.72\n",
      "======== Epoch 4 / 10 ========\n"
     ]
    },
    {
     "name": "stderr",
     "output_type": "stream",
     "text": [
      "Training: 100%|██████████████████████████████████████████████████████████████████████| 625/625 [00:45<00:00, 13.88it/s]\n",
      "Evaluating: 100%|████████████████████████████████████████████████████████████████████| 157/157 [00:03<00:00, 40.06it/s]\n"
     ]
    },
    {
     "name": "stdout",
     "output_type": "stream",
     "text": [
      "Avg Train Loss: 0.53, Val Loss: 0.51, Val Acc: 0.75\n",
      "======== Epoch 5 / 10 ========\n"
     ]
    },
    {
     "name": "stderr",
     "output_type": "stream",
     "text": [
      "Training: 100%|██████████████████████████████████████████████████████████████████████| 625/625 [00:45<00:00, 13.78it/s]\n",
      "Evaluating: 100%|████████████████████████████████████████████████████████████████████| 157/157 [00:03<00:00, 39.55it/s]\n"
     ]
    },
    {
     "name": "stdout",
     "output_type": "stream",
     "text": [
      "Avg Train Loss: 0.52, Val Loss: 0.54, Val Acc: 0.74\n",
      "======== Epoch 6 / 10 ========\n"
     ]
    },
    {
     "name": "stderr",
     "output_type": "stream",
     "text": [
      "Training: 100%|██████████████████████████████████████████████████████████████████████| 625/625 [00:45<00:00, 13.81it/s]\n",
      "Evaluating: 100%|████████████████████████████████████████████████████████████████████| 157/157 [00:03<00:00, 40.10it/s]\n"
     ]
    },
    {
     "name": "stdout",
     "output_type": "stream",
     "text": [
      "Avg Train Loss: 0.53, Val Loss: 0.53, Val Acc: 0.75\n",
      "======== Epoch 7 / 10 ========\n"
     ]
    },
    {
     "name": "stderr",
     "output_type": "stream",
     "text": [
      "Training: 100%|██████████████████████████████████████████████████████████████████████| 625/625 [00:45<00:00, 13.86it/s]\n",
      "Evaluating: 100%|████████████████████████████████████████████████████████████████████| 157/157 [00:03<00:00, 39.88it/s]\n"
     ]
    },
    {
     "name": "stdout",
     "output_type": "stream",
     "text": [
      "Avg Train Loss: 0.52, Val Loss: 0.51, Val Acc: 0.76\n",
      "======== Epoch 8 / 10 ========\n"
     ]
    },
    {
     "name": "stderr",
     "output_type": "stream",
     "text": [
      "Training: 100%|██████████████████████████████████████████████████████████████████████| 625/625 [00:45<00:00, 13.86it/s]\n",
      "Evaluating: 100%|████████████████████████████████████████████████████████████████████| 157/157 [00:03<00:00, 39.99it/s]\n"
     ]
    },
    {
     "name": "stdout",
     "output_type": "stream",
     "text": [
      "Avg Train Loss: 0.51, Val Loss: 0.52, Val Acc: 0.75\n",
      "======== Epoch 9 / 10 ========\n"
     ]
    },
    {
     "name": "stderr",
     "output_type": "stream",
     "text": [
      "Training: 100%|██████████████████████████████████████████████████████████████████████| 625/625 [00:45<00:00, 13.73it/s]\n",
      "Evaluating: 100%|████████████████████████████████████████████████████████████████████| 157/157 [00:03<00:00, 39.34it/s]\n"
     ]
    },
    {
     "name": "stdout",
     "output_type": "stream",
     "text": [
      "Avg Train Loss: 0.50, Val Loss: 0.52, Val Acc: 0.76\n",
      "======== Epoch 10 / 10 ========\n"
     ]
    },
    {
     "name": "stderr",
     "output_type": "stream",
     "text": [
      "Training: 100%|██████████████████████████████████████████████████████████████████████| 625/625 [00:45<00:00, 13.69it/s]\n",
      "Evaluating: 100%|████████████████████████████████████████████████████████████████████| 157/157 [00:03<00:00, 39.60it/s]"
     ]
    },
    {
     "name": "stdout",
     "output_type": "stream",
     "text": [
      "Avg Train Loss: 0.49, Val Loss: 0.50, Val Acc: 0.77\n"
     ]
    },
    {
     "name": "stderr",
     "output_type": "stream",
     "text": [
      "\n"
     ]
    }
   ],
   "source": [
    "# Обучение LSTM\n",
    "print(\"Training LSTM...\")\n",
    "lstm_model = RNNModel(len(vocab), embedding_dim, hidden_dim, num_layers, dropout, 'LSTM')\n",
    "lstm_stats = train_rnn(lstm_model, train_dataloader_rnn, test_dataloader_rnn, epochs_rnn, lr, device)"
   ]
  },
  {
   "cell_type": "code",
   "execution_count": 54,
   "id": "e1bd9d95-9d9d-4735-b791-430a2a21005b",
   "metadata": {},
   "outputs": [
    {
     "name": "stdout",
     "output_type": "stream",
     "text": [
      "Training GRU...\n",
      "======== Epoch 1 / 10 ========\n"
     ]
    },
    {
     "name": "stderr",
     "output_type": "stream",
     "text": [
      "Training: 100%|██████████████████████████████████████████████████████████████████████| 625/625 [00:45<00:00, 13.69it/s]\n",
      "Evaluating: 100%|████████████████████████████████████████████████████████████████████| 157/157 [00:03<00:00, 39.64it/s]\n"
     ]
    },
    {
     "name": "stdout",
     "output_type": "stream",
     "text": [
      "Avg Train Loss: 0.58, Val Loss: 0.51, Val Acc: 0.76\n",
      "======== Epoch 2 / 10 ========\n"
     ]
    },
    {
     "name": "stderr",
     "output_type": "stream",
     "text": [
      "Training: 100%|██████████████████████████████████████████████████████████████████████| 625/625 [00:45<00:00, 13.87it/s]\n",
      "Evaluating: 100%|████████████████████████████████████████████████████████████████████| 157/157 [00:04<00:00, 39.14it/s]\n"
     ]
    },
    {
     "name": "stdout",
     "output_type": "stream",
     "text": [
      "Avg Train Loss: 0.51, Val Loss: 0.51, Val Acc: 0.76\n",
      "======== Epoch 3 / 10 ========\n"
     ]
    },
    {
     "name": "stderr",
     "output_type": "stream",
     "text": [
      "Training: 100%|██████████████████████████████████████████████████████████████████████| 625/625 [00:44<00:00, 13.94it/s]\n",
      "Evaluating: 100%|████████████████████████████████████████████████████████████████████| 157/157 [00:03<00:00, 39.39it/s]\n"
     ]
    },
    {
     "name": "stdout",
     "output_type": "stream",
     "text": [
      "Avg Train Loss: 0.50, Val Loss: 0.48, Val Acc: 0.78\n",
      "======== Epoch 4 / 10 ========\n"
     ]
    },
    {
     "name": "stderr",
     "output_type": "stream",
     "text": [
      "Training: 100%|██████████████████████████████████████████████████████████████████████| 625/625 [00:45<00:00, 13.71it/s]\n",
      "Evaluating: 100%|████████████████████████████████████████████████████████████████████| 157/157 [00:03<00:00, 39.44it/s]\n"
     ]
    },
    {
     "name": "stdout",
     "output_type": "stream",
     "text": [
      "Avg Train Loss: 0.50, Val Loss: 0.49, Val Acc: 0.76\n",
      "======== Epoch 5 / 10 ========\n"
     ]
    },
    {
     "name": "stderr",
     "output_type": "stream",
     "text": [
      "Training: 100%|██████████████████████████████████████████████████████████████████████| 625/625 [00:45<00:00, 13.80it/s]\n",
      "Evaluating: 100%|████████████████████████████████████████████████████████████████████| 157/157 [00:04<00:00, 38.27it/s]\n"
     ]
    },
    {
     "name": "stdout",
     "output_type": "stream",
     "text": [
      "Avg Train Loss: 0.51, Val Loss: 0.51, Val Acc: 0.76\n",
      "======== Epoch 6 / 10 ========\n"
     ]
    },
    {
     "name": "stderr",
     "output_type": "stream",
     "text": [
      "Training: 100%|██████████████████████████████████████████████████████████████████████| 625/625 [00:45<00:00, 13.89it/s]\n",
      "Evaluating: 100%|████████████████████████████████████████████████████████████████████| 157/157 [00:03<00:00, 39.90it/s]\n"
     ]
    },
    {
     "name": "stdout",
     "output_type": "stream",
     "text": [
      "Avg Train Loss: 0.51, Val Loss: 0.49, Val Acc: 0.77\n",
      "======== Epoch 7 / 10 ========\n"
     ]
    },
    {
     "name": "stderr",
     "output_type": "stream",
     "text": [
      "Training: 100%|██████████████████████████████████████████████████████████████████████| 625/625 [00:45<00:00, 13.83it/s]\n",
      "Evaluating: 100%|████████████████████████████████████████████████████████████████████| 157/157 [00:04<00:00, 39.05it/s]\n"
     ]
    },
    {
     "name": "stdout",
     "output_type": "stream",
     "text": [
      "Avg Train Loss: 0.50, Val Loss: 0.49, Val Acc: 0.77\n",
      "======== Epoch 8 / 10 ========\n"
     ]
    },
    {
     "name": "stderr",
     "output_type": "stream",
     "text": [
      "Training: 100%|██████████████████████████████████████████████████████████████████████| 625/625 [00:46<00:00, 13.58it/s]\n",
      "Evaluating: 100%|████████████████████████████████████████████████████████████████████| 157/157 [00:04<00:00, 38.65it/s]\n"
     ]
    },
    {
     "name": "stdout",
     "output_type": "stream",
     "text": [
      "Avg Train Loss: 0.49, Val Loss: 0.49, Val Acc: 0.77\n",
      "======== Epoch 9 / 10 ========\n"
     ]
    },
    {
     "name": "stderr",
     "output_type": "stream",
     "text": [
      "Training: 100%|██████████████████████████████████████████████████████████████████████| 625/625 [00:45<00:00, 13.73it/s]\n",
      "Evaluating: 100%|████████████████████████████████████████████████████████████████████| 157/157 [00:04<00:00, 38.89it/s]\n"
     ]
    },
    {
     "name": "stdout",
     "output_type": "stream",
     "text": [
      "Avg Train Loss: 0.48, Val Loss: 0.44, Val Acc: 0.81\n",
      "======== Epoch 10 / 10 ========\n"
     ]
    },
    {
     "name": "stderr",
     "output_type": "stream",
     "text": [
      "Training: 100%|██████████████████████████████████████████████████████████████████████| 625/625 [00:45<00:00, 13.62it/s]\n",
      "Evaluating: 100%|████████████████████████████████████████████████████████████████████| 157/157 [00:04<00:00, 38.54it/s]"
     ]
    },
    {
     "name": "stdout",
     "output_type": "stream",
     "text": [
      "Avg Train Loss: 0.46, Val Loss: 0.44, Val Acc: 0.81\n"
     ]
    },
    {
     "name": "stderr",
     "output_type": "stream",
     "text": [
      "\n"
     ]
    }
   ],
   "source": [
    "# Обучение GRU\n",
    "print(\"Training GRU...\")\n",
    "gru_model = RNNModel(len(vocab), embedding_dim, hidden_dim, num_layers, dropout, 'GRU')\n",
    "gru_stats = train_rnn(gru_model, train_dataloader_rnn, test_dataloader_rnn, epochs_rnn, lr, device)\n"
   ]
  },
  {
   "cell_type": "code",
   "execution_count": 55,
   "id": "eae0673a-41ab-4833-8102-008ab2fbcf88",
   "metadata": {},
   "outputs": [
    {
     "data": {
      "image/png": "[encoded data removed]",
      "text/plain": [
       "<Figure size 1200x500 with 2 Axes>"
      ]
     },
     "metadata": {},
     "output_type": "display_data"
    },
    {
     "data": {
      "image/png": "[encoded data removed]",
      "text/plain": [
       "<Figure size 1200x500 with 2 Axes>"
      ]
     },
     "metadata": {},
     "output_type": "display_data"
    },
    {
     "name": "stdout",
     "output_type": "stream",
     "text": [
      "\n",
      "LSTM Evaluation:\n",
      "              precision    recall  f1-score   support\n",
      "\n",
      "    Negative       0.78      0.77      0.77      5000\n",
      "    Positive       0.77      0.78      0.78      5000\n",
      "\n",
      "    accuracy                           0.77     10000\n",
      "   macro avg       0.77      0.77      0.77     10000\n",
      "weighted avg       0.77      0.77      0.77     10000\n",
      "\n",
      "Accuracy: 0.7745\n",
      "\n",
      "GRU Evaluation:\n",
      "              precision    recall  f1-score   support\n",
      "\n",
      "    Negative       0.85      0.75      0.80      5000\n",
      "    Positive       0.78      0.87      0.82      5000\n",
      "\n",
      "    accuracy                           0.81     10000\n",
      "   macro avg       0.81      0.81      0.81     10000\n",
      "weighted avg       0.81      0.81      0.81     10000\n",
      "\n",
      "Accuracy: 0.8097\n"
     ]
    }
   ],
   "source": [
    "# Визуализация\n",
    "plot_stats(lstm_stats, 'LSTM')\n",
    "plot_stats(gru_stats, 'GRU')\n",
    "\n",
    "# Оценка\n",
    "print(\"\\nLSTM Evaluation:\")\n",
    "evaluate_model(lstm_model, test_dataloader_rnn, device)\n",
    "\n",
    "print(\"\\nGRU Evaluation:\")\n",
    "evaluate_model(gru_model, test_dataloader_rnn, device)"
   ]
  },
  {
   "cell_type": "markdown",
   "id": "ad0e37d8-1a60-4e22-8e47-aa420f9926a2",
   "metadata": {},
   "source": [
    "Анализ кривых: \n",
    "- LSTM:\n",
    "    - Losses: train и val уменьшаются и останавливаются на 0.5 (недообучение),\n",
    "    - Accurancy: колеблются, но увеличиваются и останавливаются на 0.77.\n",
    "- Gru:\n",
    "    - losses: также колеблются, но достигают более маленькой отметки losses - 0.45.\n",
    "    - Accurancy: также с колебаниями увеличиваются до 0,81\n",
    "   \n",
    "Все хорошо.  \n",
    "Теперь анализ статистики:\n",
    "- LSTM:\n",
    "    - Модель сбалансирована, но accurancy небольшая (0,77) (надо увеличить количество слоев, но делать я этого не буду)\n",
    "- Gru:\n",
    "    - Модель сбалансирована, довольно большой accuracy, все чики пуки"
   ]
  },
  {
   "cell_type": "code",
   "execution_count": 56,
   "id": "93b5f2e8-24a9-428f-adc1-c3eee34f6132",
   "metadata": {},
   "outputs": [
    {
     "name": "stdout",
     "output_type": "stream",
     "text": [
      "RNN models and results saved!\n"
     ]
    }
   ],
   "source": [
    "# Сохранение моделей и результатов\n",
    "output_dir_rnn = './rnn_models/'\n",
    "os.makedirs(output_dir_rnn, exist_ok=True)\n",
    "\n",
    "torch.save(lstm_model.state_dict(), os.path.join(output_dir_rnn, 'lstm_model.pth'))\n",
    "torch.save(gru_model.state_dict(), os.path.join(output_dir_rnn, 'gru_model.pth'))\n",
    "\n",
    "import pickle\n",
    "with open(os.path.join(output_dir_rnn, 'vocab.pkl'), 'wb') as f:\n",
    "    pickle.dump(vocab, f)\n",
    "with open(os.path.join(output_dir_rnn, 'lstm_stats.pkl'), 'wb') as f:\n",
    "    pickle.dump(lstm_stats, f)\n",
    "with open(os.path.join(output_dir_rnn, 'gru_stats.pkl'), 'wb') as f:\n",
    "    pickle.dump(gru_stats, f)\n",
    "\n",
    "print(\"RNN models and results saved!\")"
   ]
  },
  {
   "cell_type": "markdown",
   "id": "2307ee5e-353e-4538-b7a0-20bf944368d2",
   "metadata": {},
   "source": [
    "# Градиентный бустинг (XGBoost, LightGBM, CatBoost)"
   ]
  },
  {
   "cell_type": "markdown",
   "id": "f2f1ce80-8ba4-42c0-91e0-78a9f5aeba21",
   "metadata": {},
   "source": [
    "LSTM losses: обе кривые нестабильные , но в целом они обе на одном уровне, LSTM accuracy в целом на одном уровне. Так теперь к GRU: train и val на одном уровне, разве что на одной эпохе ошибка val резко увеличивается на 0.001, accurancy так-же остается довольно стабильным"
   ]
  },
  {
   "cell_type": "code",
   "execution_count": 63,
   "id": "41cf9f4e-5d63-4049-91ad-033b1d2de93e",
   "metadata": {},
   "outputs": [],
   "source": [
    "from sklearn.feature_extraction.text import TfidfVectorizer\n",
    "import xgboost as xgb\n",
    "import lightgbm as lgb\n",
    "import catboost as cb\n",
    "from torch.utils.data import DataLoader, TensorDataset, RandomSampler, SequentialSampler\n",
    "from sklearn.model_selection import train_test_split, GridSearchCV"
   ]
  },
  {
   "cell_type": "code",
   "execution_count": 64,
   "id": "6bec74e3-5140-427e-846c-c9649e5d4de0",
   "metadata": {},
   "outputs": [
    {
     "name": "stdout",
     "output_type": "stream",
     "text": [
      "TF-IDF train shape: (40000, 5000), test shape: (10000, 5000)\n"
     ]
    },
    {
     "name": "stderr",
     "output_type": "stream",
     "text": [
      "C:\\Users\\Delta-Game\\AppData\\Local\\Temp\\ipykernel_12856\\4111750241.py:10: DeprecationWarning: __array__ implementation doesn't accept a copy keyword, so passing copy=False failed. __array__ must implement 'dtype' and 'copy' keyword arguments. To learn more, see the migration guide https://numpy.org/devdocs/numpy_2_0_migration_guide.html#adapting-to-changes-in-the-copy-keyword\n",
      "  y_train = np.array(train_labels)\n",
      "C:\\Users\\Delta-Game\\AppData\\Local\\Temp\\ipykernel_12856\\4111750241.py:11: DeprecationWarning: __array__ implementation doesn't accept a copy keyword, so passing copy=False failed. __array__ must implement 'dtype' and 'copy' keyword arguments. To learn more, see the migration guide https://numpy.org/devdocs/numpy_2_0_migration_guide.html#adapting-to-changes-in-the-copy-keyword\n",
      "  y_test = np.array(test_labels)\n"
     ]
    }
   ],
   "source": [
    "# Предобработка для градиентного бустинга\n",
    "# Конвертируем списки слов в строки для TF-IDF\n",
    "train_texts_str = [' '.join(text) for text in train_texts]\n",
    "test_texts_str = [' '.join(text) for text in test_texts]\n",
    "\n",
    "# TF-IDF векторизация\n",
    "vectorizer = TfidfVectorizer(max_features=5000, ngram_range=(1, 2))  # Учитываем униграммы и биграммы\n",
    "X_train = vectorizer.fit_transform(train_texts_str)\n",
    "X_test = vectorizer.transform(test_texts_str)\n",
    "y_train = np.array(train_labels)\n",
    "y_test = np.array(test_labels)\n",
    "\n",
    "print(f\"TF-IDF train shape: {X_train.shape}, test shape: {X_test.shape}\")"
   ]
  },
  {
   "cell_type": "code",
   "execution_count": 65,
   "id": "44002ec5-1f82-43c0-b2b3-3e54169b2e3b",
   "metadata": {},
   "outputs": [],
   "source": [
    "# Функция для обучения и подбора гиперпараметров\n",
    "def train_and_tune_model(model, param_grid, X_train, y_train, X_test, y_test, model_name):\n",
    "    grid_search = GridSearchCV(\n",
    "        model,\n",
    "        param_grid,\n",
    "        cv=3,\n",
    "        scoring='accuracy',\n",
    "        n_jobs=-1,\n",
    "        verbose=1\n",
    "    )\n",
    "    start_time = time.time()\n",
    "    grid_search.fit(X_train, y_train)\n",
    "    training_time = (time.time() - start_time) / 60\n",
    "    \n",
    "    best_model = grid_search.best_estimator_\n",
    "    print(f\"\\n{model_name} Best Parameters: {grid_search.best_params_}\")\n",
    "    print(f\"{model_name} Training time: {training_time:.2f} minutes\")\n",
    "    \n",
    "    # Оценка на тестовом наборе\n",
    "    y_pred = best_model.predict(X_test)\n",
    "    print(f\"\\n{model_name} Evaluation:\")\n",
    "    print(classification_report(y_test, y_pred, target_names=['Negative', 'Positive']))\n",
    "    accuracy = accuracy_score(y_test, y_pred)\n",
    "    print(f\"Accuracy: {accuracy:.4f}\")\n",
    "    \n",
    "    # История потерь (для бустинга нет epoch-wise loss, но можем использовать validation score из GridSearch)\n",
    "    val_scores = grid_search.cv_results_['mean_test_score']\n",
    "    epochs = np.arange(1, len(val_scores) + 1)  # Фиктивные \"эпохи\" для визуализации\n",
    "    \n",
    "    return best_model, accuracy, val_scores, epochs\n",
    "\n",
    "# Параметры для подбора\n",
    "xgboost_param_grid = {\n",
    "    'max_depth': [3, 5],\n",
    "    'learning_rate': [0.1, 0.01],\n",
    "    'n_estimators': [100, 200]\n",
    "}\n",
    "\n",
    "lightgbm_param_grid = {\n",
    "    'max_depth': [3, 5],\n",
    "    'learning_rate': [0.1, 0.01],\n",
    "    'n_estimators': [100, 200]\n",
    "}\n",
    "\n",
    "catboost_param_grid = {\n",
    "    'depth': [4, 6],\n",
    "    'learning_rate': [0.1, 0.01],\n",
    "    'iterations': [100, 200]\n",
    "}"
   ]
  },
  {
   "cell_type": "code",
   "execution_count": 68,
   "id": "04d87139-32a9-44c9-bd47-4ce3cd6bb173",
   "metadata": {},
   "outputs": [
    {
     "name": "stdout",
     "output_type": "stream",
     "text": [
      "Training XGBoost...\n",
      "Fitting 3 folds for each of 8 candidates, totalling 24 fits\n"
     ]
    },
    {
     "name": "stderr",
     "output_type": "stream",
     "text": [
      "C:\\Users\\Delta-Game\\mentorex2\\.venv\\Lib\\site-packages\\xgboost\\training.py:183: UserWarning: [22:45:55] WARNING: C:\\actions-runner\\_work\\xgboost\\xgboost\\src\\learner.cc:738: \n",
      "Parameters: { \"use_label_encoder\" } are not used.\n",
      "\n",
      "  bst.update(dtrain, iteration=i, fobj=obj)\n"
     ]
    },
    {
     "name": "stdout",
     "output_type": "stream",
     "text": [
      "\n",
      "XGBoost Best Parameters: {'learning_rate': 0.1, 'max_depth': 5, 'n_estimators': 200}\n",
      "XGBoost Training time: 4.25 minutes\n",
      "\n",
      "XGBoost Evaluation:\n",
      "              precision    recall  f1-score   support\n",
      "\n",
      "    Negative       0.87      0.82      0.84      5000\n",
      "    Positive       0.83      0.88      0.85      5000\n",
      "\n",
      "    accuracy                           0.85     10000\n",
      "   macro avg       0.85      0.85      0.85     10000\n",
      "weighted avg       0.85      0.85      0.85     10000\n",
      "\n",
      "Accuracy: 0.8486\n",
      "Training LightGBM...\n",
      "Fitting 3 folds for each of 8 candidates, totalling 24 fits\n",
      "[LightGBM] [Info] Number of positive: 20000, number of negative: 20000\n",
      "[LightGBM] [Info] Auto-choosing row-wise multi-threading, the overhead of testing was 0.203424 seconds.\n",
      "You can set `force_row_wise=true` to remove the overhead.\n",
      "And if memory is not enough, you can set `force_col_wise=true`.\n",
      "[LightGBM] [Info] Total Bins 629741\n",
      "[LightGBM] [Info] Number of data points in the train set: 40000, number of used features: 5000\n",
      "[LightGBM] [Info] [binary:BoostFromScore]: pavg=0.500000 -> initscore=0.000000\n",
      "[LightGBM] [Warning] No further splits with positive gain, best gain: -inf\n",
      "[LightGBM] [Warning] No further splits with positive gain, best gain: -inf\n",
      "[LightGBM] [Warning] No further splits with positive gain, best gain: -inf\n",
      "[LightGBM] [Warning] No further splits with positive gain, best gain: -inf\n",
      "[LightGBM] [Warning] No further splits with positive gain, best gain: -inf\n",
      "[LightGBM] [Warning] No further splits with positive gain, best gain: -inf\n",
      "[LightGBM] [Warning] No further splits with positive gain, best gain: -inf\n",
      "[LightGBM] [Warning] No further splits with positive gain, best gain: -inf\n",
      "[LightGBM] [Warning] No further splits with positive gain, best gain: -inf\n",
      "[LightGBM] [Warning] No further splits with positive gain, best gain: -inf\n",
      "[LightGBM] [Warning] No further splits with positive gain, best gain: -inf\n",
      "[LightGBM] [Warning] No further splits with positive gain, best gain: -inf\n",
      "[LightGBM] [Warning] No further splits with positive gain, best gain: -inf\n",
      "[LightGBM] [Warning] No further splits with positive gain, best gain: -inf\n",
      "[LightGBM] [Warning] No further splits with positive gain, best gain: -inf\n",
      "[LightGBM] [Warning] No further splits with positive gain, best gain: -inf\n",
      "[LightGBM] [Warning] No further splits with positive gain, best gain: -inf\n",
      "[LightGBM] [Warning] No further splits with positive gain, best gain: -inf\n",
      "[LightGBM] [Warning] No further splits with positive gain, best gain: -inf\n",
      "[LightGBM] [Warning] No further splits with positive gain, best gain: -inf\n",
      "[LightGBM] [Warning] No further splits with positive gain, best gain: -inf\n",
      "[LightGBM] [Warning] No further splits with positive gain, best gain: -inf\n",
      "[LightGBM] [Warning] No further splits with positive gain, best gain: -inf\n",
      "[LightGBM] [Warning] No further splits with positive gain, best gain: -inf\n",
      "[LightGBM] [Warning] No further splits with positive gain, best gain: -inf\n",
      "[LightGBM] [Warning] No further splits with positive gain, best gain: -inf\n",
      "[LightGBM] [Warning] No further splits with positive gain, best gain: -inf\n",
      "[LightGBM] [Warning] No further splits with positive gain, best gain: -inf\n",
      "[LightGBM] [Warning] No further splits with positive gain, best gain: -inf\n",
      "[LightGBM] [Warning] No further splits with positive gain, best gain: -inf\n",
      "[LightGBM] [Warning] No further splits with positive gain, best gain: -inf\n",
      "[LightGBM] [Warning] No further splits with positive gain, best gain: -inf\n",
      "[LightGBM] [Warning] No further splits with positive gain, best gain: -inf\n",
      "[LightGBM] [Warning] No further splits with positive gain, best gain: -inf\n",
      "[LightGBM] [Warning] No further splits with positive gain, best gain: -inf\n",
      "[LightGBM] [Warning] No further splits with positive gain, best gain: -inf\n",
      "[LightGBM] [Warning] No further splits with positive gain, best gain: -inf\n",
      "[LightGBM] [Warning] No further splits with positive gain, best gain: -inf\n",
      "[LightGBM] [Warning] No further splits with positive gain, best gain: -inf\n",
      "[LightGBM] [Warning] No further splits with positive gain, best gain: -inf\n",
      "[LightGBM] [Warning] No further splits with positive gain, best gain: -inf\n",
      "[LightGBM] [Warning] No further splits with positive gain, best gain: -inf\n",
      "[LightGBM] [Warning] No further splits with positive gain, best gain: -inf\n",
      "[LightGBM] [Warning] No further splits with positive gain, best gain: -inf\n",
      "[LightGBM] [Warning] No further splits with positive gain, best gain: -inf\n",
      "[LightGBM] [Warning] No further splits with positive gain, best gain: -inf\n",
      "[LightGBM] [Warning] No further splits with positive gain, best gain: -inf\n",
      "[LightGBM] [Warning] No further splits with positive gain, best gain: -inf\n",
      "[LightGBM] [Warning] No further splits with positive gain, best gain: -inf\n",
      "[LightGBM] [Warning] No further splits with positive gain, best gain: -inf\n",
      "[LightGBM] [Warning] No further splits with positive gain, best gain: -inf\n",
      "[LightGBM] [Warning] No further splits with positive gain, best gain: -inf\n",
      "[LightGBM] [Warning] No further splits with positive gain, best gain: -inf\n",
      "[LightGBM] [Warning] No further splits with positive gain, best gain: -inf\n",
      "[LightGBM] [Warning] No further splits with positive gain, best gain: -inf\n",
      "[LightGBM] [Warning] No further splits with positive gain, best gain: -inf\n",
      "[LightGBM] [Warning] No further splits with positive gain, best gain: -inf\n",
      "[LightGBM] [Warning] No further splits with positive gain, best gain: -inf\n",
      "[LightGBM] [Warning] No further splits with positive gain, best gain: -inf\n",
      "[LightGBM] [Warning] No further splits with positive gain, best gain: -inf\n",
      "[LightGBM] [Warning] No further splits with positive gain, best gain: -inf\n",
      "[LightGBM] [Warning] No further splits with positive gain, best gain: -inf\n",
      "[LightGBM] [Warning] No further splits with positive gain, best gain: -inf\n",
      "[LightGBM] [Warning] No further splits with positive gain, best gain: -inf\n",
      "[LightGBM] [Warning] No further splits with positive gain, best gain: -inf\n",
      "[LightGBM] [Warning] No further splits with positive gain, best gain: -inf\n",
      "[LightGBM] [Warning] No further splits with positive gain, best gain: -inf\n",
      "[LightGBM] [Warning] No further splits with positive gain, best gain: -inf\n",
      "[LightGBM] [Warning] No further splits with positive gain, best gain: -inf\n",
      "[LightGBM] [Warning] No further splits with positive gain, best gain: -inf\n",
      "[LightGBM] [Warning] No further splits with positive gain, best gain: -inf\n",
      "[LightGBM] [Warning] No further splits with positive gain, best gain: -inf\n",
      "[LightGBM] [Warning] No further splits with positive gain, best gain: -inf\n",
      "[LightGBM] [Warning] No further splits with positive gain, best gain: -inf\n",
      "[LightGBM] [Warning] No further splits with positive gain, best gain: -inf\n",
      "[LightGBM] [Warning] No further splits with positive gain, best gain: -inf\n",
      "[LightGBM] [Warning] No further splits with positive gain, best gain: -inf\n",
      "[LightGBM] [Warning] No further splits with positive gain, best gain: -inf\n",
      "[LightGBM] [Warning] No further splits with positive gain, best gain: -inf\n",
      "[LightGBM] [Warning] No further splits with positive gain, best gain: -inf\n",
      "[LightGBM] [Warning] No further splits with positive gain, best gain: -inf\n",
      "[LightGBM] [Warning] No further splits with positive gain, best gain: -inf\n",
      "[LightGBM] [Warning] No further splits with positive gain, best gain: -inf\n",
      "[LightGBM] [Warning] No further splits with positive gain, best gain: -inf\n",
      "[LightGBM] [Warning] No further splits with positive gain, best gain: -inf\n",
      "[LightGBM] [Warning] No further splits with positive gain, best gain: -inf\n",
      "[LightGBM] [Warning] No further splits with positive gain, best gain: -inf\n",
      "[LightGBM] [Warning] No further splits with positive gain, best gain: -inf\n",
      "[LightGBM] [Warning] No further splits with positive gain, best gain: -inf\n",
      "[LightGBM] [Warning] No further splits with positive gain, best gain: -inf\n",
      "[LightGBM] [Warning] No further splits with positive gain, best gain: -inf\n",
      "[LightGBM] [Warning] No further splits with positive gain, best gain: -inf\n",
      "[LightGBM] [Warning] No further splits with positive gain, best gain: -inf\n",
      "[LightGBM] [Warning] No further splits with positive gain, best gain: -inf\n",
      "[LightGBM] [Warning] No further splits with positive gain, best gain: -inf\n",
      "[LightGBM] [Warning] No further splits with positive gain, best gain: -inf\n",
      "[LightGBM] [Warning] No further splits with positive gain, best gain: -inf\n",
      "[LightGBM] [Warning] No further splits with positive gain, best gain: -inf\n",
      "[LightGBM] [Warning] No further splits with positive gain, best gain: -inf\n",
      "[LightGBM] [Warning] No further splits with positive gain, best gain: -inf\n",
      "[LightGBM] [Warning] No further splits with positive gain, best gain: -inf\n",
      "[LightGBM] [Warning] No further splits with positive gain, best gain: -inf\n",
      "[LightGBM] [Warning] No further splits with positive gain, best gain: -inf\n",
      "[LightGBM] [Warning] No further splits with positive gain, best gain: -inf\n",
      "[LightGBM] [Warning] No further splits with positive gain, best gain: -inf\n",
      "[LightGBM] [Warning] No further splits with positive gain, best gain: -inf\n",
      "[LightGBM] [Warning] No further splits with positive gain, best gain: -inf\n",
      "[LightGBM] [Warning] No further splits with positive gain, best gain: -inf\n",
      "[LightGBM] [Warning] No further splits with positive gain, best gain: -inf\n",
      "[LightGBM] [Warning] No further splits with positive gain, best gain: -inf\n",
      "[LightGBM] [Warning] No further splits with positive gain, best gain: -inf\n",
      "[LightGBM] [Warning] No further splits with positive gain, best gain: -inf\n",
      "[LightGBM] [Warning] No further splits with positive gain, best gain: -inf\n",
      "[LightGBM] [Warning] No further splits with positive gain, best gain: -inf\n",
      "[LightGBM] [Warning] No further splits with positive gain, best gain: -inf\n",
      "[LightGBM] [Warning] No further splits with positive gain, best gain: -inf\n",
      "[LightGBM] [Warning] No further splits with positive gain, best gain: -inf\n",
      "[LightGBM] [Warning] No further splits with positive gain, best gain: -inf\n",
      "[LightGBM] [Warning] No further splits with positive gain, best gain: -inf\n",
      "[LightGBM] [Warning] No further splits with positive gain, best gain: -inf\n",
      "[LightGBM] [Warning] No further splits with positive gain, best gain: -inf\n",
      "[LightGBM] [Warning] No further splits with positive gain, best gain: -inf\n",
      "[LightGBM] [Warning] No further splits with positive gain, best gain: -inf\n",
      "[LightGBM] [Warning] No further splits with positive gain, best gain: -inf\n",
      "[LightGBM] [Warning] No further splits with positive gain, best gain: -inf\n",
      "[LightGBM] [Warning] No further splits with positive gain, best gain: -inf\n",
      "[LightGBM] [Warning] No further splits with positive gain, best gain: -inf\n",
      "[LightGBM] [Warning] No further splits with positive gain, best gain: -inf\n",
      "[LightGBM] [Warning] No further splits with positive gain, best gain: -inf\n",
      "[LightGBM] [Warning] No further splits with positive gain, best gain: -inf\n",
      "[LightGBM] [Warning] No further splits with positive gain, best gain: -inf\n",
      "[LightGBM] [Warning] No further splits with positive gain, best gain: -inf\n",
      "[LightGBM] [Warning] No further splits with positive gain, best gain: -inf\n",
      "[LightGBM] [Warning] No further splits with positive gain, best gain: -inf\n",
      "[LightGBM] [Warning] No further splits with positive gain, best gain: -inf\n",
      "[LightGBM] [Warning] No further splits with positive gain, best gain: -inf\n",
      "[LightGBM] [Warning] No further splits with positive gain, best gain: -inf\n",
      "[LightGBM] [Warning] No further splits with positive gain, best gain: -inf\n",
      "[LightGBM] [Warning] No further splits with positive gain, best gain: -inf\n",
      "[LightGBM] [Warning] No further splits with positive gain, best gain: -inf\n",
      "[LightGBM] [Warning] No further splits with positive gain, best gain: -inf\n",
      "[LightGBM] [Warning] No further splits with positive gain, best gain: -inf\n",
      "[LightGBM] [Warning] No further splits with positive gain, best gain: -inf\n",
      "[LightGBM] [Warning] No further splits with positive gain, best gain: -inf\n",
      "[LightGBM] [Warning] No further splits with positive gain, best gain: -inf\n",
      "[LightGBM] [Warning] No further splits with positive gain, best gain: -inf\n",
      "[LightGBM] [Warning] No further splits with positive gain, best gain: -inf\n",
      "[LightGBM] [Warning] No further splits with positive gain, best gain: -inf\n",
      "[LightGBM] [Warning] No further splits with positive gain, best gain: -inf\n",
      "[LightGBM] [Warning] No further splits with positive gain, best gain: -inf\n",
      "[LightGBM] [Warning] No further splits with positive gain, best gain: -inf\n",
      "[LightGBM] [Warning] No further splits with positive gain, best gain: -inf\n",
      "[LightGBM] [Warning] No further splits with positive gain, best gain: -inf\n",
      "[LightGBM] [Warning] No further splits with positive gain, best gain: -inf\n",
      "[LightGBM] [Warning] No further splits with positive gain, best gain: -inf\n",
      "[LightGBM] [Warning] No further splits with positive gain, best gain: -inf\n",
      "[LightGBM] [Warning] No further splits with positive gain, best gain: -inf\n",
      "[LightGBM] [Warning] No further splits with positive gain, best gain: -inf\n",
      "[LightGBM] [Warning] No further splits with positive gain, best gain: -inf\n",
      "[LightGBM] [Warning] No further splits with positive gain, best gain: -inf\n",
      "[LightGBM] [Warning] No further splits with positive gain, best gain: -inf\n",
      "[LightGBM] [Warning] No further splits with positive gain, best gain: -inf\n",
      "[LightGBM] [Warning] No further splits with positive gain, best gain: -inf\n",
      "[LightGBM] [Warning] No further splits with positive gain, best gain: -inf\n",
      "[LightGBM] [Warning] No further splits with positive gain, best gain: -inf\n",
      "[LightGBM] [Warning] No further splits with positive gain, best gain: -inf\n",
      "[LightGBM] [Warning] No further splits with positive gain, best gain: -inf\n",
      "[LightGBM] [Warning] No further splits with positive gain, best gain: -inf\n",
      "[LightGBM] [Warning] No further splits with positive gain, best gain: -inf\n",
      "[LightGBM] [Warning] No further splits with positive gain, best gain: -inf\n",
      "[LightGBM] [Warning] No further splits with positive gain, best gain: -inf\n",
      "[LightGBM] [Warning] No further splits with positive gain, best gain: -inf\n",
      "[LightGBM] [Warning] No further splits with positive gain, best gain: -inf\n",
      "[LightGBM] [Warning] No further splits with positive gain, best gain: -inf\n",
      "[LightGBM] [Warning] No further splits with positive gain, best gain: -inf\n",
      "[LightGBM] [Warning] No further splits with positive gain, best gain: -inf\n",
      "[LightGBM] [Warning] No further splits with positive gain, best gain: -inf\n",
      "[LightGBM] [Warning] No further splits with positive gain, best gain: -inf\n",
      "[LightGBM] [Warning] No further splits with positive gain, best gain: -inf\n",
      "[LightGBM] [Warning] No further splits with positive gain, best gain: -inf\n",
      "[LightGBM] [Warning] No further splits with positive gain, best gain: -inf\n",
      "[LightGBM] [Warning] No further splits with positive gain, best gain: -inf\n",
      "[LightGBM] [Warning] No further splits with positive gain, best gain: -inf\n",
      "[LightGBM] [Warning] No further splits with positive gain, best gain: -inf\n",
      "[LightGBM] [Warning] No further splits with positive gain, best gain: -inf\n",
      "[LightGBM] [Warning] No further splits with positive gain, best gain: -inf\n",
      "[LightGBM] [Warning] No further splits with positive gain, best gain: -inf\n",
      "[LightGBM] [Warning] No further splits with positive gain, best gain: -inf\n",
      "[LightGBM] [Warning] No further splits with positive gain, best gain: -inf\n",
      "[LightGBM] [Warning] No further splits with positive gain, best gain: -inf\n",
      "[LightGBM] [Warning] No further splits with positive gain, best gain: -inf\n",
      "[LightGBM] [Warning] No further splits with positive gain, best gain: -inf\n",
      "[LightGBM] [Warning] No further splits with positive gain, best gain: -inf\n",
      "[LightGBM] [Warning] No further splits with positive gain, best gain: -inf\n",
      "[LightGBM] [Warning] No further splits with positive gain, best gain: -inf\n",
      "[LightGBM] [Warning] No further splits with positive gain, best gain: -inf\n",
      "[LightGBM] [Warning] No further splits with positive gain, best gain: -inf\n",
      "[LightGBM] [Warning] No further splits with positive gain, best gain: -inf\n",
      "[LightGBM] [Warning] No further splits with positive gain, best gain: -inf\n",
      "\n",
      "LightGBM Best Parameters: {'learning_rate': 0.1, 'max_depth': 5, 'n_estimators': 200}\n",
      "LightGBM Training time: 2.21 minutes\n",
      "\n",
      "LightGBM Evaluation:\n",
      "              precision    recall  f1-score   support\n",
      "\n",
      "    Negative       0.87      0.82      0.85      5000\n",
      "    Positive       0.83      0.88      0.85      5000\n",
      "\n",
      "    accuracy                           0.85     10000\n",
      "   macro avg       0.85      0.85      0.85     10000\n",
      "weighted avg       0.85      0.85      0.85     10000\n",
      "\n",
      "Accuracy: 0.8497\n",
      "Training CatBoost...\n",
      "Fitting 3 folds for each of 8 candidates, totalling 24 fits\n"
     ]
    },
    {
     "name": "stderr",
     "output_type": "stream",
     "text": [
      "C:\\Users\\Delta-Game\\mentorex2\\.venv\\Lib\\site-packages\\sklearn\\utils\\validation.py:2749: UserWarning: X does not have valid feature names, but LGBMClassifier was fitted with feature names\n",
      "  warnings.warn(\n",
      "C:\\Users\\Delta-Game\\mentorex2\\.venv\\Lib\\site-packages\\sklearn\\model_selection\\_validation.py:516: FitFailedWarning: \n",
      "11 fits failed out of a total of 24.\n",
      "The score on these train-test partitions for these parameters will be set to nan.\n",
      "If these failures are not expected, you can try to debug them by setting error_score='raise'.\n",
      "\n",
      "Below are more details about the failures:\n",
      "--------------------------------------------------------------------------------\n",
      "11 fits failed with the following error:\n",
      "Traceback (most recent call last):\n",
      "  File \"C:\\Users\\Delta-Game\\mentorex2\\.venv\\Lib\\site-packages\\sklearn\\model_selection\\_validation.py\", line 859, in _fit_and_score\n",
      "    estimator.fit(X_train, y_train, **fit_params)\n",
      "  File \"C:\\Users\\Delta-Game\\mentorex2\\.venv\\Lib\\site-packages\\catboost\\core.py\", line 5245, in fit\n",
      "    self._fit(X, y, cat_features, text_features, embedding_features, None, graph, sample_weight, None, None, None, None, baseline, use_best_model,\n",
      "  File \"C:\\Users\\Delta-Game\\mentorex2\\.venv\\Lib\\site-packages\\catboost\\core.py\", line 2410, in _fit\n",
      "    self._train(\n",
      "  File \"C:\\Users\\Delta-Game\\mentorex2\\.venv\\Lib\\site-packages\\catboost\\core.py\", line 1790, in _train\n",
      "    self._object._train(train_pool, test_pool, params, allow_clear_pool, init_model._object if init_model else None)\n",
      "  File \"_catboost.pyx\", line 5023, in _catboost._CatBoost._train\n",
      "  File \"_catboost.pyx\", line 5072, in _catboost._CatBoost._train\n",
      "_catboost.CatBoostError: catboost/libs/train_lib/dir_helper.cpp:20: Can't create train working dir: catboost_info\n",
      "\n",
      "  warnings.warn(some_fits_failed_message, FitFailedWarning)\n",
      "C:\\Users\\Delta-Game\\mentorex2\\.venv\\Lib\\site-packages\\sklearn\\model_selection\\_search.py:1135: UserWarning: One or more of the test scores are non-finite: [       nan        nan        nan        nan 0.83312504        nan\n",
      " 0.85330001 0.77474997]\n",
      "  warnings.warn(\n"
     ]
    },
    {
     "name": "stdout",
     "output_type": "stream",
     "text": [
      "\n",
      "CatBoost Best Parameters: {'depth': 6, 'iterations': 200, 'learning_rate': 0.1}\n",
      "CatBoost Training time: 6.07 minutes\n",
      "\n",
      "CatBoost Evaluation:\n",
      "              precision    recall  f1-score   support\n",
      "\n",
      "    Negative       0.88      0.83      0.86      5000\n",
      "    Positive       0.84      0.89      0.86      5000\n",
      "\n",
      "    accuracy                           0.86     10000\n",
      "   macro avg       0.86      0.86      0.86     10000\n",
      "weighted avg       0.86      0.86      0.86     10000\n",
      "\n",
      "Accuracy: 0.8612\n"
     ]
    }
   ],
   "source": [
    "# Обучение моделей\n",
    "print(\"Training XGBoost...\")\n",
    "xgboost_model = xgb.XGBClassifier(use_label_encoder=False, eval_metric='logloss')\n",
    "xgboost_model, xgboost_acc, xgboost_val_scores, xgboost_epochs = train_and_tune_model(\n",
    "    xgboost_model, xgboost_param_grid, X_train, y_train, X_test, y_test, \"XGBoost\"\n",
    ")\n",
    "\n",
    "print(\"Training LightGBM...\")\n",
    "lightgbm_model = lgb.LGBMClassifier()\n",
    "lightgbm_model, lightgbm_acc, lightgbm_val_scores, lightgbm_epochs = train_and_tune_model(\n",
    "    lightgbm_model, lightgbm_param_grid, X_train, y_train, X_test, y_test, \"LightGBM\"\n",
    ")\n",
    "\n",
    "print(\"Training CatBoost...\")\n",
    "catboost_model = cb.CatBoostClassifier(verbose=0)\n",
    "catboost_model, catboost_acc, catboost_val_scores, catboost_epochs = train_and_tune_model(\n",
    "    catboost_model, catboost_param_grid, X_train, y_train, X_test, y_test, \"CatBoost\")"
   ]
  },
  {
   "cell_type": "code",
   "execution_count": 69,
   "id": "c0f1bdae-9771-4408-8b06-6da431746053",
   "metadata": {},
   "outputs": [
    {
     "data": {
      "image/png": "[encoded data removed]",
      "text/plain": [
       "<Figure size 800x500 with 1 Axes>"
      ]
     },
     "metadata": {},
     "output_type": "display_data"
    },
    {
     "data": {
      "image/png": "[encoded data removed]",
      "text/plain": [
       "<Figure size 800x500 with 1 Axes>"
      ]
     },
     "metadata": {},
     "output_type": "display_data"
    },
    {
     "data": {
      "image/png": "[encoded data removed]",
      "text/plain": [
       "<Figure size 800x500 with 1 Axes>"
      ]
     },
     "metadata": {},
     "output_type": "display_data"
    }
   ],
   "source": [
    "# Визуализация (имитация кривых обучения через CV scores)\n",
    "def plot_boosting_results(val_scores, epochs, model_name):\n",
    "    plt.figure(figsize=(8, 5))\n",
    "    plt.plot(epochs, val_scores, label=f'{model_name} CV Accuracy')\n",
    "    plt.title(f'{model_name} Cross-Validation Accuracy')\n",
    "    plt.xlabel('Parameter Combination Index')\n",
    "    plt.ylabel('Accuracy')\n",
    "    plt.legend()\n",
    "    plt.savefig(f'./{model_name.lower()}_results.png')\n",
    "    plt.show()\n",
    "\n",
    "plot_boosting_results(xgboost_val_scores, xgboost_epochs, 'XGBoost')\n",
    "plot_boosting_results(lightgbm_val_scores, lightgbm_epochs, 'LightGBM')\n",
    "plot_boosting_results(catboost_val_scores, catboost_epochs, 'CatBoost')"
   ]
  },
  {
   "cell_type": "code",
   "execution_count": 70,
   "id": "92665694-5d63-4859-b10c-8bbed3f7b4d0",
   "metadata": {},
   "outputs": [
    {
     "name": "stdout",
     "output_type": "stream",
     "text": [
      "\n",
      "Testing model predictions:\n",
      "\n",
      "Text: 'This movie was fantastic! I really enjoyed it.'\n",
      "XGBoost: Positive\n",
      "LightGBM: Positive\n",
      "CatBoost: Positive\n",
      "\n",
      "Text: 'This was the worst movie I've ever seen. Terrible acting and plot.'\n",
      "XGBoost: Negative\n",
      "LightGBM: Negative\n",
      "CatBoost: Negative\n",
      "\n",
      "Text: 'The film had some good moments but overall was disappointing.'\n",
      "XGBoost: Negative\n",
      "LightGBM: Negative\n",
      "CatBoost: Negative\n",
      "\n",
      "Text: 'An absolute masterpiece with brilliant performances.'\n",
      "XGBoost: Positive\n",
      "LightGBM: Positive\n",
      "CatBoost: Positive\n"
     ]
    },
    {
     "name": "stderr",
     "output_type": "stream",
     "text": [
      "C:\\Users\\Delta-Game\\mentorex2\\.venv\\Lib\\site-packages\\sklearn\\utils\\validation.py:2749: UserWarning: X does not have valid feature names, but LGBMClassifier was fitted with feature names\n",
      "  warnings.warn(\n",
      "C:\\Users\\Delta-Game\\mentorex2\\.venv\\Lib\\site-packages\\sklearn\\utils\\validation.py:2749: UserWarning: X does not have valid feature names, but LGBMClassifier was fitted with feature names\n",
      "  warnings.warn(\n",
      "C:\\Users\\Delta-Game\\mentorex2\\.venv\\Lib\\site-packages\\sklearn\\utils\\validation.py:2749: UserWarning: X does not have valid feature names, but LGBMClassifier was fitted with feature names\n",
      "  warnings.warn(\n",
      "C:\\Users\\Delta-Game\\mentorex2\\.venv\\Lib\\site-packages\\sklearn\\utils\\validation.py:2749: UserWarning: X does not have valid feature names, but LGBMClassifier was fitted with feature names\n",
      "  warnings.warn(\n"
     ]
    }
   ],
   "source": [
    "# Проверка на примерах\n",
    "sample_texts = [\n",
    "    \"This movie was fantastic! I really enjoyed it.\",\n",
    "    \"This was the worst movie I've ever seen. Terrible acting and plot.\",\n",
    "    \"The film had some good moments but overall was disappointing.\",\n",
    "    \"An absolute masterpiece with brilliant performances.\"\n",
    "]\n",
    "\n",
    "def predict_sentiment(text, model, vectorizer):\n",
    "    cleaned_text = re.sub(r'<br />', ' ', text.lower())\n",
    "    cleaned_text = re.sub(r'[^a-z ]', '', cleaned_text)\n",
    "    tokens = word_tokenize(cleaned_text)\n",
    "    tokens = [w for w in tokens if w not in stopwords.words('english')]\n",
    "    text_str = ' '.join(tokens)\n",
    "    tfidf_vector = vectorizer.transform([text_str])\n",
    "    pred = model.predict(tfidf_vector)[0]\n",
    "    return \"Positive\" if pred == 1 else \"Negative\"\n",
    "\n",
    "print(\"\\nTesting model predictions:\")\n",
    "for text in sample_texts:\n",
    "    print(f\"\\nText: '{text}'\")\n",
    "    print(f\"XGBoost: {predict_sentiment(text, xgboost_model, vectorizer)}\")\n",
    "    print(f\"LightGBM: {predict_sentiment(text, lightgbm_model, vectorizer)}\")\n",
    "    print(f\"CatBoost: {predict_sentiment(text, catboost_model, vectorizer)}\")"
   ]
  },
  {
   "cell_type": "code",
   "execution_count": 71,
   "id": "bfe1c384-dc0c-431d-a016-ec5963ee4c0c",
   "metadata": {},
   "outputs": [
    {
     "ename": "AttributeError",
     "evalue": "'LGBMClassifier' object has no attribute 'save_model'",
     "output_type": "error",
     "traceback": [
      "\u001b[31m---------------------------------------------------------------------------\u001b[39m",
      "\u001b[31mAttributeError\u001b[39m                            Traceback (most recent call last)",
      "\u001b[36mCell\u001b[39m\u001b[36m \u001b[39m\u001b[32mIn[71]\u001b[39m\u001b[32m, line 6\u001b[39m\n\u001b[32m      3\u001b[39m os.makedirs(output_dir_boosting, exist_ok=\u001b[38;5;28;01mTrue\u001b[39;00m)\n\u001b[32m      5\u001b[39m xgboost_model.save_model(os.path.join(output_dir_boosting, \u001b[33m'\u001b[39m\u001b[33mxgboost_model.json\u001b[39m\u001b[33m'\u001b[39m))\n\u001b[32m----> \u001b[39m\u001b[32m6\u001b[39m \u001b[43mlightgbm_model\u001b[49m\u001b[43m.\u001b[49m\u001b[43msave_model\u001b[49m(os.path.join(output_dir_boosting, \u001b[33m'\u001b[39m\u001b[33mlightgbm_model.txt\u001b[39m\u001b[33m'\u001b[39m))\n\u001b[32m      7\u001b[39m catboost_model.save_model(os.path.join(output_dir_boosting, \u001b[33m'\u001b[39m\u001b[33mcatboost_model.cbm\u001b[39m\u001b[33m'\u001b[39m))\n\u001b[32m      9\u001b[39m \u001b[38;5;28;01mimport\u001b[39;00m\u001b[38;5;250m \u001b[39m\u001b[34;01mpickle\u001b[39;00m\n",
      "\u001b[31mAttributeError\u001b[39m: 'LGBMClassifier' object has no attribute 'save_model'"
     ]
    }
   ],
   "source": [
    "# Сохранение моделей\n",
    "output_dir_boosting = './boosting_models/'\n",
    "os.makedirs(output_dir_boosting, exist_ok=True)\n",
    "\n",
    "xgboost_model.save_model(os.path.join(output_dir_boosting, 'xgboost_model.json'))\n",
    "lightgbm_model.save_model(os.path.join(output_dir_boosting, 'lightgbm_model.txt'))\n",
    "catboost_model.save_model(os.path.join(output_dir_boosting, 'catboost_model.cbm'))\n",
    "\n",
    "import pickle\n",
    "with open(os.path.join(output_dir_boosting, 'vectorizer.pkl'), 'wb') as f:\n",
    "    pickle.dump(vectorizer, f)\n",
    "\n",
    "print(\"Boosting models and vectorizer saved!\")"
   ]
  },
  {
   "cell_type": "code",
   "execution_count": 74,
   "id": "38676fc6-0fab-47d8-90d4-eb769950eac7",
   "metadata": {},
   "outputs": [
    {
     "name": "stdout",
     "output_type": "stream",
     "text": [
      "\n",
      "Final Comparison Table:\n",
      "      Model  Accuracy\n",
      "0      BERT    0.8487\n",
      "1      LSTM    0.5000\n",
      "2       GRU    0.5000\n",
      "3   XGBoost    0.8486\n",
      "4  LightGBM    0.8497\n",
      "5  CatBoost    0.8612\n"
     ]
    },
    {
     "data": {
      "image/png": "[encoded data removed]",
      "text/plain": [
       "<Figure size 1000x400 with 1 Axes>"
      ]
     },
     "metadata": {},
     "output_type": "display_data"
    }
   ],
   "source": [
    "# Итоговая таблица сравнения\n",
    "results = {\n",
    "    'Model': ['BERT', 'LSTM', 'GRU', 'XGBoost', 'LightGBM', 'CatBoost'],\n",
    "    'Accuracy': [0.8487, 0.5000, 0.5000, xgboost_acc, lightgbm_acc, catboost_acc]\n",
    "}\n",
    "\n",
    "results_df = pd.DataFrame(results)\n",
    "print(\"\\nFinal Comparison Table:\")\n",
    "print(results_df)\n",
    "\n",
    "# Визуализация таблицы\n",
    "plt.figure(figsize=(10, 4))\n",
    "sns.barplot(x='Model', y='Accuracy', data=results_df)\n",
    "plt.title('Model Accuracy Comparison')\n",
    "plt.ylabel('Accuracy')\n",
    "plt.savefig('./model_comparison.png')\n",
    "plt.show()"
   ]
  },
  {
   "cell_type": "code",
   "execution_count": null,
   "id": "a94749ce-85dc-45a2-9204-2cf4410eea96",
   "metadata": {},
   "outputs": [],
   "source": []
  }
 ],
 "metadata": {
  "kernelspec": {
   "display_name": "MentorEx2 Kernel",
   "language": "python",
   "name": "mentorex"
  },
  "language_info": {
   "codemirror_mode": {
    "name": "ipython",
    "version": 3
   },
   "file_extension": ".py",
   "mimetype": "text/x-python",
   "name": "python",
   "nbconvert_exporter": "python",
   "pygments_lexer": "ipython3",
   "version": "3.11.13"
  }
 },
 "nbformat": 4,
 "nbformat_minor": 5
}
